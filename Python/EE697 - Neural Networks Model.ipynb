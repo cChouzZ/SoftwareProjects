{
 "cells": [
  {
   "cell_type": "markdown",
   "metadata": {},
   "source": [
    "# EE697 Graduation Project\n",
    "# Neural Networks Model on Current Mirror Dataset\n",
    "# Spring 2024\n",
    "# Zachary Chou "
   ]
  },
  {
   "cell_type": "code",
   "execution_count": 1,
   "metadata": {},
   "outputs": [],
   "source": [
    "# Import libraries numpy, pandas, matplotlib.pyplot\n",
    "import numpy as np\n",
    "import matplotlib.pyplot as plt\n",
    "import pandas as pd\n",
    "import seaborn as sns \n",
    "\n",
    "from sklearn.preprocessing import StandardScaler\n",
    "from sklearn.preprocessing import LabelEncoder\n",
    "from sklearn.metrics import mean_absolute_error,mean_squared_error, r2_score, confusion_matrix,classification_report\n",
    "\n",
    "from tensorflow.keras.models import Sequential\n",
    "import tensorflow as tf\n",
    "from tensorflow.keras.layers import Dense"
   ]
  },
  {
   "cell_type": "code",
   "execution_count": 2,
   "metadata": {
    "scrolled": false
   },
   "outputs": [
    {
     "name": "stdout",
     "output_type": "stream",
     "text": [
      "              W1         W2        L1        L2           Rd       Vth  \\\n",
      "0      11.535273  11.253561  1.635002  1.554789  11168.33570  1.099097   \n",
      "1      11.657013   5.283991  2.276355  2.245678  16266.83301  0.938749   \n",
      "2      10.034344   9.749873  1.423870  1.907299  11427.57885  1.078170   \n",
      "3       5.314317   9.953446  1.908284  1.532619  25629.44160  0.828420   \n",
      "4      12.633453   8.264820  2.005792  1.739820  21953.00888  1.111356   \n",
      "...          ...        ...       ...       ...          ...       ...   \n",
      "24995   6.120787  12.707425  1.266015  1.679263  12014.25296  0.945106   \n",
      "24996   6.286746  11.723673  1.353313  1.674134  20768.56104  1.096102   \n",
      "24997   5.738515  14.639721  1.266029  1.259818  11761.42361  0.842320   \n",
      "24998   6.781429   6.016140  1.949894  1.743846  27415.10166  1.090841   \n",
      "24999   6.874803  12.104731  2.615622  1.184040  21514.34417  1.152232   \n",
      "\n",
      "            Vdd     I_ref        I0        MR  \n",
      "0      2.824552  0.000010  0.000010  1.028689  \n",
      "1      6.022707  0.000009  0.000004  0.462216  \n",
      "2      5.078051  0.000007  0.000005  0.729013  \n",
      "3      6.083001  0.000013  0.000029  2.344460  \n",
      "4      5.155948  0.000013  0.000010  0.757935  \n",
      "...         ...       ...       ...       ...  \n",
      "24995  4.108082  0.000011  0.000017  1.571318  \n",
      "24996  3.300727  0.000007  0.000010  1.512108  \n",
      "24997  6.748932  0.000011  0.000028  2.580158  \n",
      "24998  4.954131  0.000006  0.000006  0.996730  \n",
      "24999  6.069562  0.000011  0.000042  3.909648  \n",
      "\n",
      "[25000 rows x 10 columns]\n"
     ]
    }
   ],
   "source": [
    "# Read the csv file \n",
    "df = pd.read_csv('CurrentMirrorData.csv')\n",
    "\n",
    "print(df) "
   ]
  },
  {
   "cell_type": "code",
   "execution_count": 3,
   "metadata": {},
   "outputs": [
    {
     "name": "stdout",
     "output_type": "stream",
     "text": [
      "<class 'pandas.core.frame.DataFrame'>\n",
      "RangeIndex: 25000 entries, 0 to 24999\n",
      "Data columns (total 10 columns):\n",
      " #   Column  Non-Null Count  Dtype  \n",
      "---  ------  --------------  -----  \n",
      " 0   W1      25000 non-null  float64\n",
      " 1   W2      25000 non-null  float64\n",
      " 2   L1      25000 non-null  float64\n",
      " 3   L2      25000 non-null  float64\n",
      " 4   Rd      25000 non-null  float64\n",
      " 5   Vth     25000 non-null  float64\n",
      " 6   Vdd     25000 non-null  float64\n",
      " 7   I_ref   25000 non-null  float64\n",
      " 8   I0      25000 non-null  float64\n",
      " 9   MR      25000 non-null  float64\n",
      "dtypes: float64(10)\n",
      "memory usage: 1.9 MB\n"
     ]
    }
   ],
   "source": [
    "# Show info about the data\n",
    "df.info()"
   ]
  },
  {
   "cell_type": "code",
   "execution_count": 4,
   "metadata": {},
   "outputs": [
    {
     "name": "stdout",
     "output_type": "stream",
     "text": [
      "Max for W1 is:  14.99972772\n",
      "Min for W1 is:  5.000493942\n",
      "\n",
      "Max for W2 is:  14.99944475\n",
      "Min for W2 is:  5.000110073\n",
      "\n",
      "Max for L1 is:  2.999952451\n",
      "Min for L1 is:  1.000133657\n",
      "\n",
      "Max for L2 is:  2.999896449\n",
      "Min for L2 is:  1.000299634\n"
     ]
    }
   ],
   "source": [
    "# Finding the min and max for each column \n",
    "\n",
    "print(\"Max for W1 is: \", df.W1.max())\n",
    "print(\"Min for W1 is: \", df.W1.min())\n",
    "\n",
    "print(\"\\nMax for W2 is: \", df.W2.max())\n",
    "print(\"Min for W2 is: \", df.W2.min())\n",
    "\n",
    "print(\"\\nMax for L1 is: \", df.L1.max())\n",
    "print(\"Min for L1 is: \", df.L1.min())\n",
    "\n",
    "print(\"\\nMax for L2 is: \", df.L2.max())\n",
    "print(\"Min for L2 is: \", df.L2.min())\n"
   ]
  },
  {
   "cell_type": "code",
   "execution_count": 5,
   "metadata": {},
   "outputs": [
    {
     "name": "stdout",
     "output_type": "stream",
     "text": [
      "0        (11.0, 12.0]\n",
      "1        (11.0, 12.0]\n",
      "2        (10.0, 11.0]\n",
      "3          (5.0, 6.0]\n",
      "4        (12.0, 13.0]\n",
      "             ...     \n",
      "24995      (6.0, 7.0]\n",
      "24996      (6.0, 7.0]\n",
      "24997      (5.0, 6.0]\n",
      "24998      (6.0, 7.0]\n",
      "24999      (6.0, 7.0]\n",
      "Name: W1_bins, Length: 25000, dtype: category\n",
      "Categories (10, interval[float64, right]): [(5.0, 6.0] < (6.0, 7.0] < (7.0, 8.0] < (8.0, 9.0] ... (11.0, 12.0] < (12.0, 13.0] < (13.0, 14.0] < (14.0, 15.0]]\n",
      "0          (11.0, 12.0]\n",
      "1            (5.0, 6.0]\n",
      "2           (9.0, 10.0]\n",
      "3           (9.0, 10.0]\n",
      "4            (8.0, 9.0]\n",
      "              ...      \n",
      "24995      (12.0, 13.0]\n",
      "24996      (11.0, 12.0]\n",
      "24997    (14.0, 14.999]\n",
      "24998        (6.0, 7.0]\n",
      "24999      (12.0, 13.0]\n",
      "Name: W2_bins, Length: 25000, dtype: category\n",
      "Categories (10, interval[float64, right]): [(5.0, 6.0] < (6.0, 7.0] < (7.0, 8.0] < (8.0, 9.0] ... (11.0, 12.0] < (12.0, 13.0] < (13.0, 14.0] < (14.0, 14.999]]\n",
      "0        (1.6, 1.8]\n",
      "1        (2.2, 2.4]\n",
      "2        (1.4, 1.6]\n",
      "3        (1.8, 2.0]\n",
      "4        (2.0, 2.2]\n",
      "            ...    \n",
      "24995    (1.2, 1.4]\n",
      "24996    (1.2, 1.4]\n",
      "24997    (1.2, 1.4]\n",
      "24998    (1.8, 2.0]\n",
      "24999    (2.6, 2.8]\n",
      "Name: L1_bins, Length: 25000, dtype: category\n",
      "Categories (10, interval[float64, right]): [(1.0, 1.2] < (1.2, 1.4] < (1.4, 1.6] < (1.6, 1.8] ... (2.2, 2.4] < (2.4, 2.6] < (2.6, 2.8] < (2.8, 3.0]]\n",
      "0        (1.4, 1.6]\n",
      "1        (2.2, 2.4]\n",
      "2        (1.8, 2.0]\n",
      "3        (1.4, 1.6]\n",
      "4        (1.6, 1.8]\n",
      "            ...    \n",
      "24995    (1.6, 1.8]\n",
      "24996    (1.6, 1.8]\n",
      "24997    (1.2, 1.4]\n",
      "24998    (1.6, 1.8]\n",
      "24999    (1.0, 1.2]\n",
      "Name: L2_bins, Length: 25000, dtype: category\n",
      "Categories (10, interval[float64, right]): [(1.0, 1.2] < (1.2, 1.4] < (1.4, 1.6] < (1.6, 1.8] ... (2.2, 2.4] < (2.4, 2.6] < (2.6, 2.8] < (2.8, 3.0]]\n"
     ]
    }
   ],
   "source": [
    "# Define equally spaced bins\n",
    "\n",
    "bins_W1 = np.linspace(5.000493942, 14.99972772, num=11)  \n",
    "df['W1_bins'] = pd.cut(df['W1'], bins_W1)\n",
    "print(df['W1_bins'])\n",
    "\n",
    "bins_W2 = np.linspace(5.000110073, 14.99944475, num=11)  \n",
    "df['W2_bins'] = pd.cut(df['W2'], bins_W2)\n",
    "print(df['W2_bins'])\n",
    "\n",
    "bins_L1 = np.linspace(1.000133657, 2.999952451, num=11)  \n",
    "df['L1_bins'] = pd.cut(df['L1'], bins_L1)\n",
    "print(df['L1_bins'])\n",
    "\n",
    "bins_L2 = np.linspace(1.000299634, 2.999896449, num=11)  \n",
    "df['L2_bins'] = pd.cut(df['L2'], bins_L2)\n",
    "print(df['L2_bins'])"
   ]
  },
  {
   "cell_type": "code",
   "execution_count": 6,
   "metadata": {},
   "outputs": [
    {
     "name": "stdout",
     "output_type": "stream",
     "text": [
      "Band range for W1: \n",
      " (11.0, 12.0]    2579\n",
      "(8.0, 9.0]      2554\n",
      "(5.0, 6.0]      2517\n",
      "(10.0, 11.0]    2516\n",
      "(14.0, 15.0]    2503\n",
      "(7.0, 8.0]      2500\n",
      "(6.0, 7.0]      2483\n",
      "(12.0, 13.0]    2470\n",
      "(9.0, 10.0]     2446\n",
      "(13.0, 14.0]    2431\n",
      "Name: W1_bins, dtype: int64\n",
      "\n",
      "Band range for W2: \n",
      " (12.0, 13.0]      2550\n",
      "(8.0, 9.0]        2525\n",
      "(10.0, 11.0]      2525\n",
      "(5.0, 6.0]        2521\n",
      "(9.0, 10.0]       2507\n",
      "(6.0, 7.0]        2504\n",
      "(14.0, 14.999]    2503\n",
      "(7.0, 8.0]        2501\n",
      "(13.0, 14.0]      2489\n",
      "(11.0, 12.0]      2374\n",
      "Name: W2_bins, dtype: int64\n",
      "\n",
      "Band range for L1: \n",
      " (1.6, 1.8]    2560\n",
      "(2.4, 2.6]    2551\n",
      "(2.8, 3.0]    2529\n",
      "(1.2, 1.4]    2526\n",
      "(1.4, 1.6]    2515\n",
      "(2.0, 2.2]    2514\n",
      "(2.6, 2.8]    2504\n",
      "(2.2, 2.4]    2479\n",
      "(1.0, 1.2]    2412\n",
      "(1.8, 2.0]    2409\n",
      "Name: L1_bins, dtype: int64\n",
      "\n",
      "Band range for L2: \n",
      " (2.4, 2.6]    2556\n",
      "(2.6, 2.8]    2531\n",
      "(1.4, 1.6]    2527\n",
      "(1.8, 2.0]    2492\n",
      "(2.8, 3.0]    2491\n",
      "(2.0, 2.2]    2485\n",
      "(1.0, 1.2]    2484\n",
      "(1.2, 1.4]    2482\n",
      "(1.6, 1.8]    2481\n",
      "(2.2, 2.4]    2470\n",
      "Name: L2_bins, dtype: int64\n"
     ]
    }
   ],
   "source": [
    "# Showing band range for each output feature\n",
    "print(\"Band range for W1: \\n\",df.W1_bins.value_counts())\n",
    "\n",
    "print(\"\\nBand range for W2: \\n\",df.W2_bins.value_counts())\n",
    "\n",
    "print(\"\\nBand range for L1: \\n\",df.L1_bins.value_counts())\n",
    "\n",
    "print(\"\\nBand range for L2: \\n\",df.L2_bins.value_counts())"
   ]
  },
  {
   "cell_type": "code",
   "execution_count": 7,
   "metadata": {
    "scrolled": true
   },
   "outputs": [
    {
     "name": "stdout",
     "output_type": "stream",
     "text": [
      "Bands for W1: \n",
      " [ 6  5  0  7  8  3  4  2  9  1 10]\n",
      "\n",
      "Bands for W2: \n",
      " [ 6  0  4  3  1  7  5  2  8  9 10]\n",
      "\n",
      "Bands for L1: \n",
      " [ 3  6  2  4  5  7  1  8  9  0 10]\n",
      "\n",
      "Bands for L2: \n",
      " [ 2  6  4  3  1  5  8  0  9  7 10]\n"
     ]
    }
   ],
   "source": [
    "# Converting the categorical bins to numerical\n",
    "\n",
    "from sklearn.preprocessing import LabelEncoder\n",
    "\n",
    "le = LabelEncoder()\n",
    "df['W1_bins'] = le.fit_transform(df.W1_bins)\n",
    "\n",
    "le1 = LabelEncoder()\n",
    "df['W2_bins'] = le1.fit_transform(df.W2_bins)\n",
    "\n",
    "le2 = LabelEncoder()\n",
    "df['L1_bins'] = le2.fit_transform(df.L1_bins)\n",
    "\n",
    "le3 = LabelEncoder()\n",
    "df['L2_bins'] = le3.fit_transform(df.L2_bins)\n",
    "\n",
    "print(\"Bands for W1: \\n\",df['W1_bins'].unique())\n",
    "print(\"\\nBands for W2: \\n\",df['W2_bins'].unique())\n",
    "print(\"\\nBands for L1: \\n\",df['L1_bins'].unique())\n",
    "print(\"\\nBands for L2: \\n\",df['L2_bins'].unique())"
   ]
  },
  {
   "cell_type": "code",
   "execution_count": 8,
   "metadata": {},
   "outputs": [
    {
     "name": "stdout",
     "output_type": "stream",
     "text": [
      "How many times a certin W1 band occurs: \n",
      " 6     2579\n",
      "3     2554\n",
      "0     2517\n",
      "5     2516\n",
      "9     2503\n",
      "2     2500\n",
      "1     2483\n",
      "7     2470\n",
      "4     2446\n",
      "8     2431\n",
      "10       1\n",
      "Name: W1_bins, dtype: int64\n",
      "\n",
      "How many times a certin W2 band occurs: \n",
      " 7     2550\n",
      "3     2525\n",
      "5     2525\n",
      "0     2521\n",
      "4     2507\n",
      "1     2504\n",
      "9     2503\n",
      "2     2501\n",
      "8     2489\n",
      "6     2374\n",
      "10       1\n",
      "Name: W2_bins, dtype: int64\n",
      "\n",
      "How many times a certin L1 band occurs: \n",
      " 3     2560\n",
      "7     2551\n",
      "9     2529\n",
      "1     2526\n",
      "2     2515\n",
      "5     2514\n",
      "8     2504\n",
      "6     2479\n",
      "0     2412\n",
      "4     2409\n",
      "10       1\n",
      "Name: L1_bins, dtype: int64\n",
      "\n",
      "How many times a certin L2 band occurs: \n",
      " 7     2556\n",
      "8     2531\n",
      "2     2527\n",
      "4     2492\n",
      "9     2491\n",
      "5     2485\n",
      "0     2484\n",
      "1     2482\n",
      "3     2481\n",
      "6     2470\n",
      "10       1\n",
      "Name: L2_bins, dtype: int64\n"
     ]
    }
   ],
   "source": [
    "# Showing how many times a band occurs \n",
    "print(\"How many times a certin W1 band occurs: \\n\", df.W1_bins.value_counts())\n",
    "\n",
    "print(\"\\nHow many times a certin W2 band occurs: \\n\", df.W2_bins.value_counts())\n",
    "\n",
    "print(\"\\nHow many times a certin L1 band occurs: \\n\", df.L1_bins.value_counts())\n",
    "\n",
    "print(\"\\nHow many times a certin L2 band occurs: \\n\", df.L2_bins.value_counts())"
   ]
  },
  {
   "cell_type": "code",
   "execution_count": 9,
   "metadata": {},
   "outputs": [
    {
     "name": "stdout",
     "output_type": "stream",
     "text": [
      "              W1         W2        L1        L2           Rd       Vth  \\\n",
      "0      11.535273  11.253561  1.635002  1.554789  11168.33570  1.099097   \n",
      "1      11.657013   5.283991  2.276355  2.245678  16266.83301  0.938749   \n",
      "2      10.034344   9.749873  1.423870  1.907299  11427.57885  1.078170   \n",
      "3       5.314317   9.953446  1.908284  1.532619  25629.44160  0.828420   \n",
      "4      12.633453   8.264820  2.005792  1.739820  21953.00888  1.111356   \n",
      "...          ...        ...       ...       ...          ...       ...   \n",
      "24995   6.120787  12.707425  1.266015  1.679263  12014.25296  0.945106   \n",
      "24996   6.286746  11.723673  1.353313  1.674134  20768.56104  1.096102   \n",
      "24997   5.738515  14.639721  1.266029  1.259818  11761.42361  0.842320   \n",
      "24998   6.781429   6.016140  1.949894  1.743846  27415.10166  1.090841   \n",
      "24999   6.874803  12.104731  2.615622  1.184040  21514.34417  1.152232   \n",
      "\n",
      "            Vdd     I_ref        I0        MR  W1_bins  W2_bins  L1_bins  \\\n",
      "0      2.824552  0.000010  0.000010  1.028689        6        6        3   \n",
      "1      6.022707  0.000009  0.000004  0.462216        6        0        6   \n",
      "2      5.078051  0.000007  0.000005  0.729013        5        4        2   \n",
      "3      6.083001  0.000013  0.000029  2.344460        0        4        4   \n",
      "4      5.155948  0.000013  0.000010  0.757935        7        3        5   \n",
      "...         ...       ...       ...       ...      ...      ...      ...   \n",
      "24995  4.108082  0.000011  0.000017  1.571318        1        7        1   \n",
      "24996  3.300727  0.000007  0.000010  1.512108        1        6        1   \n",
      "24997  6.748932  0.000011  0.000028  2.580158        0        9        1   \n",
      "24998  4.954131  0.000006  0.000006  0.996730        1        1        4   \n",
      "24999  6.069562  0.000011  0.000042  3.909648        1        7        8   \n",
      "\n",
      "       L2_bins  \n",
      "0            2  \n",
      "1            6  \n",
      "2            4  \n",
      "3            2  \n",
      "4            3  \n",
      "...        ...  \n",
      "24995        3  \n",
      "24996        3  \n",
      "24997        1  \n",
      "24998        3  \n",
      "24999        0  \n",
      "\n",
      "[25000 rows x 14 columns]\n"
     ]
    }
   ],
   "source": [
    "# Print df again with the new columns \n",
    "print(df)"
   ]
  },
  {
   "cell_type": "code",
   "execution_count": 10,
   "metadata": {},
   "outputs": [
    {
     "name": "stdout",
     "output_type": "stream",
     "text": [
      "                Rd       Vth       Vdd     I_ref        I0        MR  W1_bins  \\\n",
      "0      11168.33570  1.099097  2.824552  0.000010  0.000010  1.028689        6   \n",
      "1      16266.83301  0.938749  6.022707  0.000009  0.000004  0.462216        6   \n",
      "2      11427.57885  1.078170  5.078051  0.000007  0.000005  0.729013        5   \n",
      "3      25629.44160  0.828420  6.083001  0.000013  0.000029  2.344460        0   \n",
      "4      21953.00888  1.111356  5.155948  0.000013  0.000010  0.757935        7   \n",
      "...            ...       ...       ...       ...       ...       ...      ...   \n",
      "24995  12014.25296  0.945106  4.108082  0.000011  0.000017  1.571318        1   \n",
      "24996  20768.56104  1.096102  3.300727  0.000007  0.000010  1.512108        1   \n",
      "24997  11761.42361  0.842320  6.748932  0.000011  0.000028  2.580158        0   \n",
      "24998  27415.10166  1.090841  4.954131  0.000006  0.000006  0.996730        1   \n",
      "24999  21514.34417  1.152232  6.069562  0.000011  0.000042  3.909648        1   \n",
      "\n",
      "       W2_bins  L1_bins  L2_bins  \n",
      "0            6        3        2  \n",
      "1            0        6        6  \n",
      "2            4        2        4  \n",
      "3            4        4        2  \n",
      "4            3        5        3  \n",
      "...        ...      ...      ...  \n",
      "24995        7        1        3  \n",
      "24996        6        1        3  \n",
      "24997        9        1        1  \n",
      "24998        1        4        3  \n",
      "24999        7        8        0  \n",
      "\n",
      "[25000 rows x 10 columns]\n"
     ]
    }
   ],
   "source": [
    "# Presenting table after data cleaning\n",
    "df.drop(df.iloc[:,:4], axis = 1, inplace=True)\n",
    "print(df)"
   ]
  },
  {
   "cell_type": "code",
   "execution_count": 11,
   "metadata": {},
   "outputs": [
    {
     "name": "stdout",
     "output_type": "stream",
     "text": [
      "X data frame is \n",
      " [[1.09909676e+00 2.82455220e+00 1.11683357e+04 9.97033000e-06\n",
      "  1.02564000e-05 1.02868891e+00]\n",
      " [9.38748538e-01 6.02270743e+00 1.62668330e+04 9.26728000e-06\n",
      "  4.28349000e-06 4.62216052e-01]\n",
      " [1.07816992e+00 5.07805087e+00 1.14275788e+04 7.32795000e-06\n",
      "  5.34217000e-06 7.29012740e-01]\n",
      " ...\n",
      " [8.42320006e-01 6.74893209e+00 1.17614236e+04 1.10173000e-05\n",
      "  2.84264000e-05 2.58015803e+00]\n",
      " [1.09084128e+00 4.95413081e+00 2.74151017e+04 5.76206000e-06\n",
      "  5.74322000e-06 9.96730200e-01]\n",
      " [1.15223167e+00 6.06956163e+00 2.15143442e+04 1.08444000e-05\n",
      "  4.23979000e-05 3.90964802e+00]]\n",
      "\n",
      "y data frame is \n",
      " [[6 6 3 2]\n",
      " [6 0 6 6]\n",
      " [5 4 2 4]\n",
      " ...\n",
      " [0 9 1 1]\n",
      " [1 1 4 3]\n",
      " [1 7 8 0]]\n"
     ]
    }
   ],
   "source": [
    "# Define X and y dataframes\n",
    "X = df.loc[:,['Vth','Vdd','Rd','I_ref','I0','MR'\n",
    "             ]].values\n",
    "\n",
    "y = df.loc[:,['W1_bins','W2_bins','L1_bins','L2_bins']].values \n",
    "\n",
    "print('X data frame is \\n',X)\n",
    "\n",
    "print('\\ny data frame is \\n',y)"
   ]
  },
  {
   "cell_type": "code",
   "execution_count": 12,
   "metadata": {},
   "outputs": [
    {
     "name": "stdout",
     "output_type": "stream",
     "text": [
      "Mean Values for X: \n",
      " [1.00090000e+00 4.99610000e+00 1.99721025e+04 0.00000000e+00\n",
      " 0.00000000e+00 1.21410000e+00]\n",
      "Standard Deviation for X: \n",
      " [1.1510000e-01 1.4443000e+00 5.7698923e+03 0.0000000e+00 0.0000000e+00\n",
      " 7.9740000e-01]\n",
      "Min Values for X: \n",
      " [8.0000000e-01 2.5002000e+00 1.0000654e+04 0.0000000e+00 0.0000000e+00\n",
      " 1.3570000e-01]\n",
      "Max Values for X: \n",
      " [1.20000000e+00 7.49980000e+00 2.99998593e+04 0.00000000e+00\n",
      " 1.00000000e-04 7.58850000e+00]\n",
      "\n",
      "Mean Values for y: \n",
      " [4.4903 4.4911 4.519  4.5104]\n",
      "Standard Deviation for y: \n",
      " [2.8687 2.876  2.87   2.8729]\n",
      "Min Value for y: \n",
      " [0 0 0 0]\n",
      "Max Values for y: \n",
      " [10 10 10 10]\n"
     ]
    }
   ],
   "source": [
    "# Summary statistics \n",
    "mean_vals = np.mean(X, axis=0)\n",
    "std_dev = np.std(X, axis=0)\n",
    "min_vals = np.min(X, axis=0)\n",
    "max_vals = np.max(X, axis=0)\n",
    "\n",
    "mean_vals_y = np.mean(y, axis=0)\n",
    "std_dev_y = np.std(y, axis=0)\n",
    "min_vals_y = np.min(y, axis=0)\n",
    "max_vals_y = np.max(y, axis=0)\n",
    "\n",
    "print('Mean Values for X: \\n', np.round(mean_vals, 4))\n",
    "print('Standard Deviation for X: \\n', np.round(std_dev,4))\n",
    "print('Min Values for X: \\n', np.round(min_vals, 4))\n",
    "print('Max Values for X: \\n', np.round(max_vals,4))\n",
    "\n",
    "print('\\nMean Values for y: \\n', np.round(mean_vals_y, 4))\n",
    "print('Standard Deviation for y: \\n', np.round(std_dev_y, 4))\n",
    "print('Min Value for y: \\n', np.round(min_vals_y, 4))\n",
    "print('Max Values for y: \\n', np.round(max_vals_y, 4))"
   ]
  },
  {
   "cell_type": "code",
   "execution_count": 13,
   "metadata": {},
   "outputs": [
    {
     "data": {
      "text/plain": [
       "array([[1.09909676e+00, 2.82455220e+00, 1.11683357e+04, 9.97033000e-06,\n",
       "        1.02564000e-05, 1.02868891e+00],\n",
       "       [9.38748538e-01, 6.02270743e+00, 1.62668330e+04, 9.26728000e-06,\n",
       "        4.28349000e-06, 4.62216052e-01],\n",
       "       [1.07816992e+00, 5.07805087e+00, 1.14275788e+04, 7.32795000e-06,\n",
       "        5.34217000e-06, 7.29012740e-01],\n",
       "       ...,\n",
       "       [8.42320006e-01, 6.74893209e+00, 1.17614236e+04, 1.10173000e-05,\n",
       "        2.84264000e-05, 2.58015803e+00],\n",
       "       [1.09084128e+00, 4.95413081e+00, 2.74151017e+04, 5.76206000e-06,\n",
       "        5.74322000e-06, 9.96730200e-01],\n",
       "       [1.15223167e+00, 6.06956163e+00, 2.15143442e+04, 1.08444000e-05,\n",
       "        4.23979000e-05, 3.90964802e+00]])"
      ]
     },
     "metadata": {},
     "output_type": "display_data"
    },
    {
     "data": {
      "text/plain": [
       "array([[6, 6, 3, 2],\n",
       "       [6, 0, 6, 6],\n",
       "       [5, 4, 2, 4],\n",
       "       ...,\n",
       "       [0, 9, 1, 1],\n",
       "       [1, 1, 4, 3],\n",
       "       [1, 7, 8, 0]])"
      ]
     },
     "metadata": {},
     "output_type": "display_data"
    }
   ],
   "source": [
    "# Convert the X and Y DataFrames to arrays\n",
    "\n",
    "data = pd.DataFrame(X)\n",
    "\n",
    "X = data.to_numpy()\n",
    "\n",
    "display(X)  \n",
    "\n",
    "Data = pd.DataFrame(y)\n",
    "\n",
    "y = Data.to_numpy()\n",
    "\n",
    "display(y)"
   ]
  },
  {
   "cell_type": "code",
   "execution_count": 14,
   "metadata": {},
   "outputs": [
    {
     "name": "stdout",
     "output_type": "stream",
     "text": [
      "Normalized X data is \n",
      " [[ 0.85342393 -1.50352303 -1.52581129 -0.0166911  -0.21101131 -0.232499  ]\n",
      " [-0.53951149  0.71078136 -0.64217308 -0.26037135 -0.87792673 -0.94292311]\n",
      " [ 0.67163369  0.05673019 -1.48088096 -0.93255176 -0.75971801 -0.60832844]\n",
      " ...\n",
      " [-1.37718037  1.21359699 -1.42302117  0.34619336  1.81779092  1.71322716]\n",
      " [ 0.78170903 -0.02906825  1.28997193 -1.4752962  -0.71493809 -0.27257902]\n",
      " [ 1.31500372  0.74322176  0.26729124  0.28626546  3.3778025   3.38056518]]\n",
      "Normalized y data is \n",
      " [[ 0.52626483  0.52466735 -0.5292791  -0.87384663]\n",
      " [ 0.52626483 -1.56159575  0.51601088  0.51849356]\n",
      " [ 0.1776712  -0.17075368 -0.87770909 -0.17767653]\n",
      " ...\n",
      " [-1.56529693  1.56779891 -1.22613909 -1.22193168]\n",
      " [-1.2167033  -1.21388523 -0.1808491  -0.52576158]\n",
      " [-1.2167033   0.87237787  1.21287087 -1.57001672]]\n"
     ]
    }
   ],
   "source": [
    "# Normalize the data \n",
    "\n",
    "scaler = StandardScaler()\n",
    "X = scaler.fit_transform(X)\n",
    "y = scaler.fit_transform(y)\n",
    "\n",
    "print('Normalized X data is \\n',X)\n",
    "print('Normalized y data is \\n',y)"
   ]
  },
  {
   "cell_type": "code",
   "execution_count": 15,
   "metadata": {},
   "outputs": [
    {
     "name": "stdout",
     "output_type": "stream",
     "text": [
      "X_train= [[-0.73927691  1.66208878 -0.48636023 -1.14094422 -0.92239624 -0.79824175]\n",
      " [-0.8045204  -0.3970948   0.77760557  1.70741302 -0.05162137 -0.5421096 ]\n",
      " [-0.51541982  1.02836032 -1.1259631  -0.23323916 -0.04805952  0.0495949 ]\n",
      " ...\n",
      " [ 1.0903386  -0.63971804  0.74418688 -1.13126356 -0.3957462   0.07450087]\n",
      " [ 1.48967104 -0.35152886 -1.21293865  0.61155373  1.38403814  1.08950499]\n",
      " [ 1.02736933 -0.38033811  1.66325723 -0.63037507 -0.03937263  0.28118659]]\n",
      "X_test= [[ 0.27911762 -0.90892615 -1.515125    0.92502279 -0.15640002 -0.46042118]\n",
      " [ 0.30405634 -0.44702292  0.78686116  0.86682791  0.44656849  0.09477848]\n",
      " [ 0.26059326 -0.66995209 -0.66904851 -0.05886939 -0.94964383 -1.05892991]\n",
      " ...\n",
      " [-0.84014384 -1.60528619  0.56063028  1.07198308  3.94611277  3.01968532]\n",
      " [-1.66219927  0.84475501  0.48012628 -0.3989854  -0.47871383 -0.4111129 ]\n",
      " [-0.92397982  1.59765826  0.96171838 -1.71665421 -1.21239549 -1.20373284]]\n",
      "y_train [[ 0.52626483  0.17695684 -0.87770909  1.21466366]\n",
      " [ 0.1776712  -0.86617472  1.21287087  0.86657861]\n",
      " [ 0.1776712  -0.17075368 -0.87770909 -1.57001672]\n",
      " ...\n",
      " [-1.56529693 -1.21388523 -0.1808491  -0.17767653]\n",
      " [ 0.52626483  0.17695684  1.21287087 -1.57001672]\n",
      " [ 1.22345208  1.56779891  1.56130087  0.51849356]]\n",
      "y_test [[ 0.52626483 -1.21388523 -0.5292791  -1.57001672]\n",
      " [-1.56529693 -0.86617472 -0.1808491   0.17040852]\n",
      " [-0.86810968 -1.21388523 -1.22613909  1.56274871]\n",
      " ...\n",
      " [-0.51951605  1.56779891  0.86444088 -1.57001672]\n",
      " [-0.86810968 -0.5184642  -0.1808491   0.51849356]\n",
      " [ 0.1776712  -1.56159575 -1.22613909  1.21466366]]\n"
     ]
    }
   ],
   "source": [
    "# Using the train_test_split function, split the data into a training data set, and a test data set.\n",
    "\n",
    "from sklearn.model_selection import train_test_split\n",
    "X_train, X_test, y_train, y_test = train_test_split(X, y, test_size=0.2, random_state=42)\n",
    "\n",
    "print(\"X_train=\", X_train)\n",
    "print(\"X_test=\", X_test)\n",
    "print(\"y_train\", y_train)\n",
    "print(\"y_test\", y_test)"
   ]
  },
  {
   "cell_type": "code",
   "execution_count": 16,
   "metadata": {},
   "outputs": [
    {
     "name": "stdout",
     "output_type": "stream",
     "text": [
      "Model: \"sequential\"\n",
      "_________________________________________________________________\n",
      " Layer (type)                Output Shape              Param #   \n",
      "=================================================================\n",
      " dense (Dense)               (None, 16)                112       \n",
      "                                                                 \n",
      " dense_1 (Dense)             (None, 8)                 136       \n",
      "                                                                 \n",
      " dense_2 (Dense)             (None, 4)                 36        \n",
      "                                                                 \n",
      " dense_3 (Dense)             (None, 4)                 20        \n",
      "                                                                 \n",
      "=================================================================\n",
      "Total params: 304\n",
      "Trainable params: 304\n",
      "Non-trainable params: 0\n",
      "_________________________________________________________________\n",
      "None\n"
     ]
    }
   ],
   "source": [
    "# Build the neural network model\n",
    "\n",
    "model = Sequential()\n",
    "model.add(Dense(16, activation='relu', input_shape=(X_train.shape[1],)))\n",
    "model.add(Dense(8, activation='relu'))\n",
    "model.add(Dense(4, activation='relu'))\n",
    "model.add(Dense(y_train.shape[1], activation='softmax'))\n",
    "\n",
    "# Compile the model\n",
    "model.compile(optimizer='adam', loss='mean_squared_error', metrics=['accuracy'])\n",
    "\n",
    "# Print model summary\n",
    "print(model.summary())"
   ]
  },
  {
   "cell_type": "code",
   "execution_count": 17,
   "metadata": {},
   "outputs": [
    {
     "name": "stdout",
     "output_type": "stream",
     "text": [
      "Epoch 1/100\n",
      "313/313 [==============================] - 1s 3ms/step - loss: 0.9844 - accuracy: 0.3864 - val_loss: 0.9244 - val_accuracy: 0.4216\n",
      "Epoch 2/100\n",
      "313/313 [==============================] - 1s 2ms/step - loss: 0.9222 - accuracy: 0.4062 - val_loss: 0.9182 - val_accuracy: 0.4042\n",
      "Epoch 3/100\n",
      "313/313 [==============================] - 1s 2ms/step - loss: 0.9201 - accuracy: 0.4035 - val_loss: 0.9173 - val_accuracy: 0.3988\n",
      "Epoch 4/100\n",
      "313/313 [==============================] - 1s 2ms/step - loss: 0.9196 - accuracy: 0.3983 - val_loss: 0.9169 - val_accuracy: 0.3952\n",
      "Epoch 5/100\n",
      "313/313 [==============================] - 1s 2ms/step - loss: 0.9193 - accuracy: 0.4035 - val_loss: 0.9169 - val_accuracy: 0.4030\n",
      "Epoch 6/100\n",
      "313/313 [==============================] - 1s 3ms/step - loss: 0.9192 - accuracy: 0.3989 - val_loss: 0.9167 - val_accuracy: 0.4076\n",
      "Epoch 7/100\n",
      "313/313 [==============================] - 1s 3ms/step - loss: 0.9191 - accuracy: 0.4005 - val_loss: 0.9168 - val_accuracy: 0.3782\n",
      "Epoch 8/100\n",
      "313/313 [==============================] - 1s 3ms/step - loss: 0.9190 - accuracy: 0.4043 - val_loss: 0.9167 - val_accuracy: 0.3774\n",
      "Epoch 9/100\n",
      "313/313 [==============================] - 1s 2ms/step - loss: 0.9190 - accuracy: 0.3974 - val_loss: 0.9167 - val_accuracy: 0.4148\n",
      "Epoch 10/100\n",
      "313/313 [==============================] - 1s 2ms/step - loss: 0.9189 - accuracy: 0.4080 - val_loss: 0.9164 - val_accuracy: 0.3884\n",
      "Epoch 11/100\n",
      "313/313 [==============================] - 1s 2ms/step - loss: 0.9188 - accuracy: 0.3977 - val_loss: 0.9164 - val_accuracy: 0.3910\n",
      "Epoch 12/100\n",
      "313/313 [==============================] - 1s 2ms/step - loss: 0.9188 - accuracy: 0.3972 - val_loss: 0.9165 - val_accuracy: 0.4142\n",
      "Epoch 13/100\n",
      "313/313 [==============================] - 1s 2ms/step - loss: 0.9188 - accuracy: 0.4026 - val_loss: 0.9165 - val_accuracy: 0.3684\n",
      "Epoch 14/100\n",
      "313/313 [==============================] - 1s 2ms/step - loss: 0.9187 - accuracy: 0.3986 - val_loss: 0.9162 - val_accuracy: 0.4134\n",
      "Epoch 15/100\n",
      "313/313 [==============================] - 1s 2ms/step - loss: 0.9187 - accuracy: 0.4044 - val_loss: 0.9163 - val_accuracy: 0.3830\n",
      "Epoch 16/100\n",
      "313/313 [==============================] - 1s 3ms/step - loss: 0.9187 - accuracy: 0.3956 - val_loss: 0.9162 - val_accuracy: 0.4206\n",
      "Epoch 17/100\n",
      "313/313 [==============================] - 1s 3ms/step - loss: 0.9186 - accuracy: 0.4062 - val_loss: 0.9162 - val_accuracy: 0.3814\n",
      "Epoch 18/100\n",
      "313/313 [==============================] - 1s 3ms/step - loss: 0.9186 - accuracy: 0.4029 - val_loss: 0.9164 - val_accuracy: 0.4230\n",
      "Epoch 19/100\n",
      "313/313 [==============================] - 1s 2ms/step - loss: 0.9186 - accuracy: 0.4024 - val_loss: 0.9162 - val_accuracy: 0.3846\n",
      "Epoch 20/100\n",
      "313/313 [==============================] - 1s 2ms/step - loss: 0.9185 - accuracy: 0.4001 - val_loss: 0.9164 - val_accuracy: 0.4246\n",
      "Epoch 21/100\n",
      "313/313 [==============================] - 1s 2ms/step - loss: 0.9184 - accuracy: 0.4074 - val_loss: 0.9165 - val_accuracy: 0.4378\n",
      "Epoch 22/100\n",
      "313/313 [==============================] - 1s 2ms/step - loss: 0.9184 - accuracy: 0.4069 - val_loss: 0.9162 - val_accuracy: 0.3786\n",
      "Epoch 23/100\n",
      "313/313 [==============================] - 1s 2ms/step - loss: 0.9184 - accuracy: 0.3990 - val_loss: 0.9161 - val_accuracy: 0.3850\n",
      "Epoch 24/100\n",
      "313/313 [==============================] - 1s 3ms/step - loss: 0.9184 - accuracy: 0.3966 - val_loss: 0.9161 - val_accuracy: 0.4170\n",
      "Epoch 25/100\n",
      "313/313 [==============================] - 1s 3ms/step - loss: 0.9184 - accuracy: 0.4097 - val_loss: 0.9162 - val_accuracy: 0.3836\n",
      "Epoch 26/100\n",
      "313/313 [==============================] - 1s 3ms/step - loss: 0.9184 - accuracy: 0.4073 - val_loss: 0.9161 - val_accuracy: 0.3880\n",
      "Epoch 27/100\n",
      "313/313 [==============================] - 1s 3ms/step - loss: 0.9184 - accuracy: 0.4008 - val_loss: 0.9162 - val_accuracy: 0.3888\n",
      "Epoch 28/100\n",
      "313/313 [==============================] - 1s 2ms/step - loss: 0.9183 - accuracy: 0.4022 - val_loss: 0.9162 - val_accuracy: 0.3780\n",
      "Epoch 29/100\n",
      "313/313 [==============================] - 1s 2ms/step - loss: 0.9183 - accuracy: 0.4032 - val_loss: 0.9162 - val_accuracy: 0.4036\n",
      "Epoch 30/100\n",
      "313/313 [==============================] - 1s 2ms/step - loss: 0.9183 - accuracy: 0.4058 - val_loss: 0.9162 - val_accuracy: 0.4212\n",
      "Epoch 31/100\n",
      "313/313 [==============================] - 1s 2ms/step - loss: 0.9182 - accuracy: 0.4027 - val_loss: 0.9162 - val_accuracy: 0.3798\n",
      "Epoch 32/100\n",
      "313/313 [==============================] - 1s 2ms/step - loss: 0.9182 - accuracy: 0.4049 - val_loss: 0.9163 - val_accuracy: 0.3994\n",
      "Epoch 33/100\n",
      "313/313 [==============================] - 1s 3ms/step - loss: 0.9182 - accuracy: 0.4003 - val_loss: 0.9163 - val_accuracy: 0.4260\n",
      "Epoch 34/100\n",
      "313/313 [==============================] - 1s 3ms/step - loss: 0.9182 - accuracy: 0.4072 - val_loss: 0.9162 - val_accuracy: 0.3762\n",
      "Epoch 35/100\n",
      "313/313 [==============================] - 1s 3ms/step - loss: 0.9182 - accuracy: 0.4045 - val_loss: 0.9163 - val_accuracy: 0.3732\n",
      "Epoch 36/100\n",
      "313/313 [==============================] - 1s 2ms/step - loss: 0.9182 - accuracy: 0.4071 - val_loss: 0.9163 - val_accuracy: 0.3728\n",
      "Epoch 37/100\n",
      "313/313 [==============================] - 1s 2ms/step - loss: 0.9182 - accuracy: 0.4022 - val_loss: 0.9162 - val_accuracy: 0.3792\n",
      "Epoch 38/100\n",
      "313/313 [==============================] - 1s 2ms/step - loss: 0.9181 - accuracy: 0.4042 - val_loss: 0.9166 - val_accuracy: 0.3858\n",
      "Epoch 39/100\n",
      "313/313 [==============================] - 1s 2ms/step - loss: 0.9182 - accuracy: 0.3961 - val_loss: 0.9164 - val_accuracy: 0.4170\n",
      "Epoch 40/100\n",
      "313/313 [==============================] - 1s 2ms/step - loss: 0.9181 - accuracy: 0.4060 - val_loss: 0.9166 - val_accuracy: 0.4270\n",
      "Epoch 41/100\n",
      "313/313 [==============================] - 1s 3ms/step - loss: 0.9180 - accuracy: 0.4088 - val_loss: 0.9164 - val_accuracy: 0.4092\n",
      "Epoch 42/100\n",
      "313/313 [==============================] - 1s 3ms/step - loss: 0.9181 - accuracy: 0.4148 - val_loss: 0.9168 - val_accuracy: 0.3674\n",
      "Epoch 43/100\n",
      "313/313 [==============================] - 1s 3ms/step - loss: 0.9181 - accuracy: 0.4011 - val_loss: 0.9164 - val_accuracy: 0.3734\n",
      "Epoch 44/100\n",
      "313/313 [==============================] - 1s 2ms/step - loss: 0.9180 - accuracy: 0.4030 - val_loss: 0.9166 - val_accuracy: 0.4298\n",
      "Epoch 45/100\n",
      "313/313 [==============================] - 1s 2ms/step - loss: 0.9181 - accuracy: 0.4056 - val_loss: 0.9163 - val_accuracy: 0.3792\n",
      "Epoch 46/100\n",
      "313/313 [==============================] - 1s 2ms/step - loss: 0.9181 - accuracy: 0.4029 - val_loss: 0.9164 - val_accuracy: 0.3974\n",
      "Epoch 47/100\n",
      "313/313 [==============================] - 1s 2ms/step - loss: 0.9180 - accuracy: 0.4076 - val_loss: 0.9164 - val_accuracy: 0.3804\n",
      "Epoch 48/100\n",
      "313/313 [==============================] - 1s 2ms/step - loss: 0.9180 - accuracy: 0.4037 - val_loss: 0.9164 - val_accuracy: 0.3910\n",
      "Epoch 49/100\n",
      "313/313 [==============================] - 1s 3ms/step - loss: 0.9181 - accuracy: 0.4017 - val_loss: 0.9164 - val_accuracy: 0.3892\n",
      "Epoch 50/100\n",
      "313/313 [==============================] - 1s 3ms/step - loss: 0.9180 - accuracy: 0.4080 - val_loss: 0.9164 - val_accuracy: 0.4060\n",
      "Epoch 51/100\n",
      "313/313 [==============================] - 1s 3ms/step - loss: 0.9180 - accuracy: 0.4094 - val_loss: 0.9165 - val_accuracy: 0.4102\n",
      "Epoch 52/100\n",
      "313/313 [==============================] - 1s 2ms/step - loss: 0.9180 - accuracy: 0.4098 - val_loss: 0.9164 - val_accuracy: 0.3800\n",
      "Epoch 53/100\n",
      "313/313 [==============================] - 1s 2ms/step - loss: 0.9179 - accuracy: 0.4067 - val_loss: 0.9164 - val_accuracy: 0.3796\n",
      "Epoch 54/100\n",
      "313/313 [==============================] - 1s 2ms/step - loss: 0.9180 - accuracy: 0.4035 - val_loss: 0.9164 - val_accuracy: 0.3906\n",
      "Epoch 55/100\n",
      "313/313 [==============================] - 1s 2ms/step - loss: 0.9180 - accuracy: 0.4080 - val_loss: 0.9165 - val_accuracy: 0.3648\n",
      "Epoch 56/100\n",
      "313/313 [==============================] - 1s 2ms/step - loss: 0.9180 - accuracy: 0.3943 - val_loss: 0.9170 - val_accuracy: 0.4350\n",
      "Epoch 57/100\n",
      "313/313 [==============================] - 1s 2ms/step - loss: 0.9180 - accuracy: 0.4119 - val_loss: 0.9164 - val_accuracy: 0.3686\n",
      "Epoch 58/100\n",
      "313/313 [==============================] - 1s 3ms/step - loss: 0.9179 - accuracy: 0.4092 - val_loss: 0.9165 - val_accuracy: 0.3658\n",
      "Epoch 59/100\n",
      "313/313 [==============================] - 1s 3ms/step - loss: 0.9179 - accuracy: 0.3997 - val_loss: 0.9164 - val_accuracy: 0.4006\n",
      "Epoch 60/100\n",
      "313/313 [==============================] - 1s 3ms/step - loss: 0.9179 - accuracy: 0.4085 - val_loss: 0.9165 - val_accuracy: 0.4046\n",
      "Epoch 61/100\n",
      "313/313 [==============================] - 1s 2ms/step - loss: 0.9179 - accuracy: 0.4130 - val_loss: 0.9165 - val_accuracy: 0.3834\n",
      "Epoch 62/100\n",
      "313/313 [==============================] - 1s 2ms/step - loss: 0.9179 - accuracy: 0.4079 - val_loss: 0.9168 - val_accuracy: 0.3942\n",
      "Epoch 63/100\n",
      "313/313 [==============================] - 1s 2ms/step - loss: 0.9179 - accuracy: 0.4083 - val_loss: 0.9165 - val_accuracy: 0.3776\n",
      "Epoch 64/100\n",
      "313/313 [==============================] - 1s 2ms/step - loss: 0.9179 - accuracy: 0.4109 - val_loss: 0.9166 - val_accuracy: 0.3858\n",
      "Epoch 65/100\n",
      "313/313 [==============================] - 1s 2ms/step - loss: 0.9179 - accuracy: 0.4056 - val_loss: 0.9164 - val_accuracy: 0.3928\n",
      "Epoch 66/100\n",
      "313/313 [==============================] - 1s 3ms/step - loss: 0.9179 - accuracy: 0.4090 - val_loss: 0.9164 - val_accuracy: 0.4082\n",
      "Epoch 67/100\n",
      "313/313 [==============================] - 1s 3ms/step - loss: 0.9178 - accuracy: 0.4075 - val_loss: 0.9165 - val_accuracy: 0.4058\n",
      "Epoch 68/100\n",
      "313/313 [==============================] - 1s 3ms/step - loss: 0.9179 - accuracy: 0.4078 - val_loss: 0.9164 - val_accuracy: 0.4048\n",
      "Epoch 69/100\n",
      "313/313 [==============================] - 1s 2ms/step - loss: 0.9178 - accuracy: 0.4087 - val_loss: 0.9165 - val_accuracy: 0.3876\n",
      "Epoch 70/100\n",
      "313/313 [==============================] - 1s 2ms/step - loss: 0.9179 - accuracy: 0.4067 - val_loss: 0.9168 - val_accuracy: 0.3886\n",
      "Epoch 71/100\n",
      "313/313 [==============================] - 1s 2ms/step - loss: 0.9178 - accuracy: 0.4085 - val_loss: 0.9169 - val_accuracy: 0.3774\n",
      "Epoch 72/100\n",
      "313/313 [==============================] - 1s 2ms/step - loss: 0.9178 - accuracy: 0.4044 - val_loss: 0.9166 - val_accuracy: 0.4036\n",
      "Epoch 73/100\n",
      "313/313 [==============================] - 1s 2ms/step - loss: 0.9177 - accuracy: 0.4081 - val_loss: 0.9166 - val_accuracy: 0.3938\n",
      "Epoch 74/100\n",
      "313/313 [==============================] - 1s 2ms/step - loss: 0.9177 - accuracy: 0.4101 - val_loss: 0.9168 - val_accuracy: 0.3932\n",
      "Epoch 75/100\n",
      "313/313 [==============================] - 1s 4ms/step - loss: 0.9178 - accuracy: 0.4132 - val_loss: 0.9166 - val_accuracy: 0.3670\n",
      "Epoch 76/100\n",
      "313/313 [==============================] - 1s 4ms/step - loss: 0.9179 - accuracy: 0.4028 - val_loss: 0.9166 - val_accuracy: 0.3830\n",
      "Epoch 77/100\n",
      "313/313 [==============================] - 1s 2ms/step - loss: 0.9178 - accuracy: 0.4035 - val_loss: 0.9165 - val_accuracy: 0.4004\n",
      "Epoch 78/100\n",
      "313/313 [==============================] - 1s 2ms/step - loss: 0.9177 - accuracy: 0.4090 - val_loss: 0.9166 - val_accuracy: 0.3974\n",
      "Epoch 79/100\n",
      "313/313 [==============================] - 1s 2ms/step - loss: 0.9178 - accuracy: 0.4115 - val_loss: 0.9166 - val_accuracy: 0.3846\n",
      "Epoch 80/100\n",
      "313/313 [==============================] - 1s 2ms/step - loss: 0.9177 - accuracy: 0.4121 - val_loss: 0.9166 - val_accuracy: 0.3776\n",
      "Epoch 81/100\n",
      "313/313 [==============================] - 1s 2ms/step - loss: 0.9177 - accuracy: 0.4072 - val_loss: 0.9169 - val_accuracy: 0.4150\n",
      "Epoch 82/100\n",
      "313/313 [==============================] - 1s 3ms/step - loss: 0.9178 - accuracy: 0.4103 - val_loss: 0.9166 - val_accuracy: 0.4030\n",
      "Epoch 83/100\n",
      "313/313 [==============================] - 1s 4ms/step - loss: 0.9177 - accuracy: 0.4075 - val_loss: 0.9165 - val_accuracy: 0.4020\n",
      "Epoch 84/100\n",
      "313/313 [==============================] - 1s 3ms/step - loss: 0.9177 - accuracy: 0.4094 - val_loss: 0.9165 - val_accuracy: 0.4014\n",
      "Epoch 85/100\n",
      "313/313 [==============================] - 1s 2ms/step - loss: 0.9177 - accuracy: 0.4099 - val_loss: 0.9166 - val_accuracy: 0.4014\n",
      "Epoch 86/100\n",
      "313/313 [==============================] - 1s 2ms/step - loss: 0.9176 - accuracy: 0.4124 - val_loss: 0.9165 - val_accuracy: 0.3884\n",
      "Epoch 87/100\n",
      "313/313 [==============================] - 1s 2ms/step - loss: 0.9177 - accuracy: 0.4115 - val_loss: 0.9166 - val_accuracy: 0.3700\n",
      "Epoch 88/100\n",
      "313/313 [==============================] - 1s 2ms/step - loss: 0.9177 - accuracy: 0.4059 - val_loss: 0.9166 - val_accuracy: 0.3894\n",
      "Epoch 89/100\n",
      "313/313 [==============================] - 1s 2ms/step - loss: 0.9176 - accuracy: 0.4090 - val_loss: 0.9166 - val_accuracy: 0.3946\n",
      "Epoch 90/100\n",
      "313/313 [==============================] - 1s 3ms/step - loss: 0.9177 - accuracy: 0.4083 - val_loss: 0.9168 - val_accuracy: 0.4010\n",
      "Epoch 91/100\n",
      "313/313 [==============================] - 1s 3ms/step - loss: 0.9176 - accuracy: 0.4134 - val_loss: 0.9169 - val_accuracy: 0.3826\n",
      "Epoch 92/100\n",
      "313/313 [==============================] - 1s 3ms/step - loss: 0.9176 - accuracy: 0.4060 - val_loss: 0.9167 - val_accuracy: 0.3932\n",
      "Epoch 93/100\n",
      "313/313 [==============================] - 1s 2ms/step - loss: 0.9177 - accuracy: 0.4089 - val_loss: 0.9171 - val_accuracy: 0.3918\n",
      "Epoch 94/100\n",
      "313/313 [==============================] - 1s 2ms/step - loss: 0.9176 - accuracy: 0.4099 - val_loss: 0.9169 - val_accuracy: 0.3794\n",
      "Epoch 95/100\n",
      "313/313 [==============================] - 1s 2ms/step - loss: 0.9176 - accuracy: 0.4049 - val_loss: 0.9167 - val_accuracy: 0.4030\n",
      "Epoch 96/100\n",
      "313/313 [==============================] - 1s 2ms/step - loss: 0.9176 - accuracy: 0.4076 - val_loss: 0.9168 - val_accuracy: 0.4040\n",
      "Epoch 97/100\n",
      "313/313 [==============================] - 1s 2ms/step - loss: 0.9176 - accuracy: 0.4117 - val_loss: 0.9167 - val_accuracy: 0.3968\n",
      "Epoch 98/100\n",
      "313/313 [==============================] - 1s 2ms/step - loss: 0.9175 - accuracy: 0.4120 - val_loss: 0.9167 - val_accuracy: 0.3852\n",
      "Epoch 99/100\n",
      "313/313 [==============================] - 1s 3ms/step - loss: 0.9175 - accuracy: 0.4095 - val_loss: 0.9169 - val_accuracy: 0.4076\n",
      "Epoch 100/100\n",
      "313/313 [==============================] - 1s 3ms/step - loss: 0.9176 - accuracy: 0.4072 - val_loss: 0.9169 - val_accuracy: 0.4056\n"
     ]
    }
   ],
   "source": [
    "# Train the model\n",
    "history = model.fit(X_train, y_train, epochs=100, batch_size=64, validation_data=(X_test, y_test))"
   ]
  },
  {
   "cell_type": "code",
   "execution_count": 18,
   "metadata": {},
   "outputs": [
    {
     "name": "stdout",
     "output_type": "stream",
     "text": [
      "157/157 [==============================] - 0s 2ms/step - loss: 0.9169 - accuracy: 0.4056\n",
      "Test Loss: 0.9169048070907593\n",
      "Test Accuracy: 0.40560001134872437\n",
      "157/157 [==============================] - 0s 1ms/step\n",
      "(5000, 4) (5000, 4)\n"
     ]
    }
   ],
   "source": [
    "# Evaluate the model's performance on the test data\n",
    "loss, accuracy = model.evaluate(X_test, y_test)\n",
    "print(\"Test Loss:\", loss)\n",
    "print(\"Test Accuracy:\", accuracy)\n",
    "predictions = model.predict (X_test)\n",
    "print(predictions.shape, y_test.shape)"
   ]
  },
  {
   "cell_type": "code",
   "execution_count": 19,
   "metadata": {},
   "outputs": [
    {
     "name": "stdout",
     "output_type": "stream",
     "text": [
      "157/157 [==============================] - 0s 1ms/step\n",
      "[[765 210 118 369]\n",
      " [146 550 515 141]\n",
      " [ 96 416 421  85]\n",
      " [640 151  85 292]]\n",
      "              precision    recall  f1-score   support\n",
      "\n",
      "           0       0.46      0.52      0.49      1462\n",
      "           1       0.41      0.41      0.41      1352\n",
      "           2       0.37      0.41      0.39      1018\n",
      "           3       0.33      0.25      0.28      1168\n",
      "\n",
      "    accuracy                           0.41      5000\n",
      "   macro avg       0.39      0.40      0.39      5000\n",
      "weighted avg       0.40      0.41      0.40      5000\n",
      "\n"
     ]
    }
   ],
   "source": [
    "# Plot confusion matrix and the classification report \n",
    "predictions = model.predict(X_test)\n",
    "print(confusion_matrix(np.argmax(y_test, axis=1), np.argmax(predictions,\n",
    "axis=1)))\n",
    "\n",
    "print(classification_report(np.argmax(y_test, axis=1), np.argmax(predictions, axis=1)))"
   ]
  },
  {
   "cell_type": "code",
   "execution_count": 20,
   "metadata": {},
   "outputs": [
    {
     "name": "stdout",
     "output_type": "stream",
     "text": [
      "157/157 [==============================] - 0s 1ms/step\n"
     ]
    }
   ],
   "source": [
    "# Making predictions\n",
    "\n",
    "y_pred = model.predict(X_test)"
   ]
  },
  {
   "cell_type": "code",
   "execution_count": 21,
   "metadata": {},
   "outputs": [
    {
     "name": "stdout",
     "output_type": "stream",
     "text": [
      "Mean Absolute Error (MAE):  0.818294727369383\n",
      "Mean Squared Error (MSE):  0.9169047910090772\n",
      "Root Mean Squared Error (RMSE):  0.9575514560633686\n",
      "R-squared (R2 ):  0.07901429482149158\n"
     ]
    }
   ],
   "source": [
    "# Show model performance \n",
    "\n",
    "mae = mean_absolute_error(y_test, y_pred)\n",
    "mse = mean_squared_error(y_test, y_pred)\n",
    "rmse = np.sqrt(mse)   \n",
    "r2 = r2_score(y_test, y_pred)\n",
    "\n",
    "print(\"Mean Absolute Error (MAE): \", mae)\n",
    "print(\"Mean Squared Error (MSE): \", mse)\n",
    "print(\"Root Mean Squared Error (RMSE): \", rmse)\n",
    "print(\"R-squared (R2 ): \", r2)"
   ]
  },
  {
   "cell_type": "code",
   "execution_count": 39,
   "metadata": {},
   "outputs": [
    {
     "name": "stdout",
     "output_type": "stream",
     "text": [
      "1/1 [==============================] - 0s 43ms/step\n",
      "1/1 [==============================] - 0s 55ms/step\n",
      "1/1 [==============================] - 0s 58ms/step\n",
      "1/1 [==============================] - 0s 56ms/step\n",
      "Predicted W1 bin: (5.0, 6.0]\n",
      "Predicted W2 bin: (5.0, 6.0]\n",
      "Predicted L1 bin: (1.0, 1.2]\n",
      "Predicted L2 bin: (1.0, 1.2]\n"
     ]
    }
   ],
   "source": [
    "# User input for MR \n",
    "user_MR = 0.9\n",
    "\n",
    "# Create an array with the input features (Vth, Vdd, Rd, I_ref, IO, and user-defined MR)\n",
    "user_input = [1,5,300,0.0000500,0.0000100,user_MR]\n",
    "\n",
    "# Get the predicted encoded value for W1_bins\n",
    "predicted_W1_encoded = model.predict([user_input])\n",
    "predicted_W2_encoded = model.predict([user_input])\n",
    "predicted_L1_encoded = model.predict([user_input])\n",
    "predicted_L2_encoded = model.predict([user_input])\n",
    "\n",
    "# Inverse transform to get the original bin label\n",
    "predicted_W1_bin = le.inverse_transform([predicted_W1_encoded.argmax()])[0]\n",
    "predicted_W2_bin = le1.inverse_transform([predicted_W2_encoded.argmax()])[0]\n",
    "predicted_L1_bin = le2.inverse_transform([predicted_L1_encoded.argmax()])[0]\n",
    "predicted_L2_bin = le3.inverse_transform([predicted_L2_encoded.argmax()])[0]\n",
    "\n",
    "print(\"Predicted W1 bin:\", predicted_W1_bin)\n",
    "print(\"Predicted W2 bin:\", predicted_W2_bin)\n",
    "print(\"Predicted L1 bin:\", predicted_L1_bin)\n",
    "print(\"Predicted L2 bin:\", predicted_L2_bin)"
   ]
  },
  {
   "cell_type": "code",
   "execution_count": 23,
   "metadata": {},
   "outputs": [
    {
     "data": {
      "image/png": "[encoded data removed]",
      "text/plain": [
       "<Figure size 1000x600 with 1 Axes>"
      ]
     },
     "metadata": {},
     "output_type": "display_data"
    }
   ],
   "source": [
    "# Plot the training loss \n",
    "plt.figure(figsize=(10, 6))\n",
    "plt.plot(history.history['loss'], label='Train')\n",
    "plt.plot(history.history['val_loss'], label='Validation')\n",
    "plt.title('Model Score')\n",
    "plt.xlabel('Number of iterations')\n",
    "plt.ylabel('MSE Value on Log Scale')\n",
    "plt.yscale('log')\n",
    "plt.legend()\n",
    "plt.show()"
   ]
  }
 ],
 "metadata": {
  "kernelspec": {
   "display_name": "Python 3 (ipykernel)",
   "language": "python",
   "name": "python3"
  },
  "language_info": {
   "codemirror_mode": {
    "name": "ipython",
    "version": 3
   },
   "file_extension": ".py",
   "mimetype": "text/x-python",
   "name": "python",
   "nbconvert_exporter": "python",
   "pygments_lexer": "ipython3",
   "version": "3.10.9"
  }
 },
 "nbformat": 4,
 "nbformat_minor": 2
}
