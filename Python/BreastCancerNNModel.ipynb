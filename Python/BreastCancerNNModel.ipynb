{
 "cells": [
  {
   "cell_type": "markdown",
   "metadata": {},
   "source": [
    "# EE634 Intro to Neural Networks\n",
    "# Assignment #1: Neural Network for Breast Cancer\n",
    "# Zachary Chou\n",
    "## Fall 2023"
   ]
  },
  {
   "cell_type": "code",
   "execution_count": 1,
   "metadata": {},
   "outputs": [],
   "source": [
    "# Import libraries numpy, pandas, matplotlib.pyplot\n",
    "import numpy as np\n",
    "import matplotlib.pyplot as plt "
   ]
  },
  {
   "cell_type": "code",
   "execution_count": 2,
   "metadata": {},
   "outputs": [
    {
     "name": "stdout",
     "output_type": "stream",
     "text": [
      "[[1.000025e+06 5.000000e+00 1.000000e+00 ... 1.000000e+00 1.000000e+00\n",
      "  2.000000e+00]\n",
      " [1.002945e+06 5.000000e+00 4.000000e+00 ... 2.000000e+00 1.000000e+00\n",
      "  2.000000e+00]\n",
      " [1.015425e+06 3.000000e+00 1.000000e+00 ... 1.000000e+00 1.000000e+00\n",
      "  2.000000e+00]\n",
      " ...\n",
      " [8.888200e+05 5.000000e+00 1.000000e+01 ... 1.000000e+01 2.000000e+00\n",
      "  4.000000e+00]\n",
      " [8.974710e+05 4.000000e+00 8.000000e+00 ... 6.000000e+00 1.000000e+00\n",
      "  4.000000e+00]\n",
      " [8.974710e+05 4.000000e+00 8.000000e+00 ... 4.000000e+00 1.000000e+00\n",
      "  4.000000e+00]]\n"
     ]
    }
   ],
   "source": [
    "# Read the csv file into the two-dimensional array \n",
    "data = np.genfromtxt('breast-cancer-wisconsin.data.csv',delimiter = ',')\n",
    "\n",
    "print(data) "
   ]
  },
  {
   "cell_type": "code",
   "execution_count": 3,
   "metadata": {},
   "outputs": [
    {
     "name": "stdout",
     "output_type": "stream",
     "text": [
      "(699, 11)\n"
     ]
    }
   ],
   "source": [
    "# print the shape of the array\n",
    "print(data.shape)"
   ]
  },
  {
   "cell_type": "code",
   "execution_count": 4,
   "metadata": {},
   "outputs": [
    {
     "name": "stdout",
     "output_type": "stream",
     "text": [
      "[[1.000025e+06 5.000000e+00 1.000000e+00 1.000000e+00 1.000000e+00\n",
      "  2.000000e+00 1.000000e+00 3.000000e+00 1.000000e+00 1.000000e+00\n",
      "  2.000000e+00]\n",
      " [1.002945e+06 5.000000e+00 4.000000e+00 4.000000e+00 5.000000e+00\n",
      "  7.000000e+00 1.000000e+01 3.000000e+00 2.000000e+00 1.000000e+00\n",
      "  2.000000e+00]\n",
      " [1.015425e+06 3.000000e+00 1.000000e+00 1.000000e+00 1.000000e+00\n",
      "  2.000000e+00 2.000000e+00 3.000000e+00 1.000000e+00 1.000000e+00\n",
      "  2.000000e+00]\n",
      " [1.016277e+06 6.000000e+00 8.000000e+00 8.000000e+00 1.000000e+00\n",
      "  3.000000e+00 4.000000e+00 3.000000e+00 7.000000e+00 1.000000e+00\n",
      "  2.000000e+00]\n",
      " [1.017023e+06 4.000000e+00 1.000000e+00 1.000000e+00 3.000000e+00\n",
      "  2.000000e+00 1.000000e+00 3.000000e+00 1.000000e+00 1.000000e+00\n",
      "  2.000000e+00]]\n"
     ]
    }
   ],
   "source": [
    "# print the first 5 rows of the array\n",
    "print(data[0:5,:])"
   ]
  },
  {
   "cell_type": "code",
   "execution_count": 5,
   "metadata": {},
   "outputs": [
    {
     "data": {
      "text/plain": [
       "array([[1.000025e+06, 5.000000e+00, 1.000000e+00, ..., 3.000000e+00,\n",
       "        1.000000e+00, 1.000000e+00],\n",
       "       [1.002945e+06, 5.000000e+00, 4.000000e+00, ..., 3.000000e+00,\n",
       "        2.000000e+00, 1.000000e+00],\n",
       "       [1.015425e+06, 3.000000e+00, 1.000000e+00, ..., 3.000000e+00,\n",
       "        1.000000e+00, 1.000000e+00],\n",
       "       ...,\n",
       "       [8.888200e+05, 5.000000e+00, 1.000000e+01, ..., 8.000000e+00,\n",
       "        1.000000e+01, 2.000000e+00],\n",
       "       [8.974710e+05, 4.000000e+00, 8.000000e+00, ..., 1.000000e+01,\n",
       "        6.000000e+00, 1.000000e+00],\n",
       "       [8.974710e+05, 4.000000e+00, 8.000000e+00, ..., 1.000000e+01,\n",
       "        4.000000e+00, 1.000000e+00]])"
      ]
     },
     "metadata": {},
     "output_type": "display_data"
    },
    {
     "name": "stdout",
     "output_type": "stream",
     "text": [
      "(699, 10)\n"
     ]
    }
   ],
   "source": [
    "# Assign to the array \"X\" the features from the array \n",
    "X = data[:,:-1]\n",
    "display(X)\n",
    "print(X.shape)"
   ]
  },
  {
   "cell_type": "code",
   "execution_count": 6,
   "metadata": {
    "scrolled": true
   },
   "outputs": [
    {
     "data": {
      "text/plain": [
       "array([2., 2., 2., 2., 2., 4., 2., 2., 2., 2., 2., 2., 4., 2., 4., 4., 2.,\n",
       "       2., 4., 2., 4., 4., 2., 4., 2., 4., 2., 2., 2., 2., 2., 2., 4., 2.,\n",
       "       2., 2., 4., 2., 4., 4., 2., 4., 4., 4., 4., 2., 4., 2., 2., 4., 4.,\n",
       "       4., 4., 4., 4., 4., 4., 4., 4., 4., 4., 2., 4., 4., 2., 4., 2., 4.,\n",
       "       4., 2., 2., 4., 2., 4., 4., 2., 2., 2., 2., 2., 2., 2., 2., 2., 4.,\n",
       "       4., 4., 4., 2., 2., 2., 2., 2., 2., 2., 2., 2., 2., 4., 4., 4., 4.,\n",
       "       2., 4., 4., 4., 4., 4., 2., 4., 2., 4., 4., 4., 2., 2., 2., 4., 2.,\n",
       "       2., 2., 2., 4., 4., 4., 2., 4., 2., 4., 2., 2., 2., 4., 2., 2., 2.,\n",
       "       2., 2., 2., 2., 2., 2., 4., 2., 2., 2., 4., 2., 2., 4., 2., 4., 4.,\n",
       "       2., 2., 4., 2., 2., 2., 4., 4., 2., 2., 2., 2., 2., 4., 4., 2., 2.,\n",
       "       2., 2., 2., 4., 4., 4., 2., 4., 2., 4., 2., 2., 2., 4., 4., 2., 4.,\n",
       "       4., 4., 2., 4., 4., 2., 2., 2., 2., 2., 2., 2., 2., 4., 4., 2., 2.,\n",
       "       2., 4., 4., 2., 2., 2., 4., 4., 2., 4., 4., 4., 2., 2., 4., 2., 2.,\n",
       "       4., 4., 4., 4., 2., 4., 4., 2., 4., 4., 4., 2., 4., 2., 2., 4., 4.,\n",
       "       4., 4., 2., 2., 2., 2., 2., 2., 4., 4., 2., 2., 2., 4., 2., 4., 4.,\n",
       "       4., 2., 2., 2., 2., 4., 4., 4., 4., 4., 2., 4., 4., 4., 2., 4., 2.,\n",
       "       4., 4., 2., 2., 2., 2., 2., 4., 2., 2., 4., 4., 4., 4., 4., 2., 4.,\n",
       "       4., 2., 2., 4., 4., 2., 4., 2., 2., 2., 4., 4., 2., 4., 2., 4., 4.,\n",
       "       2., 2., 4., 2., 2., 2., 4., 2., 2., 2., 4., 4., 2., 2., 4., 2., 2.,\n",
       "       4., 2., 2., 4., 2., 4., 4., 4., 2., 2., 4., 4., 2., 4., 2., 2., 4.,\n",
       "       4., 2., 2., 2., 4., 2., 2., 2., 4., 4., 2., 2., 2., 4., 2., 2., 4.,\n",
       "       4., 4., 4., 4., 4., 2., 2., 2., 2., 4., 4., 2., 2., 2., 2., 2., 2.,\n",
       "       2., 2., 2., 2., 2., 2., 2., 4., 2., 2., 2., 2., 4., 2., 2., 2., 2.,\n",
       "       4., 2., 2., 2., 2., 2., 2., 2., 2., 4., 2., 2., 2., 2., 2., 2., 2.,\n",
       "       2., 2., 2., 2., 4., 2., 4., 2., 4., 2., 2., 2., 2., 4., 2., 2., 2.,\n",
       "       4., 2., 4., 2., 2., 2., 2., 2., 2., 2., 4., 4., 2., 2., 2., 4., 2.,\n",
       "       2., 2., 2., 2., 2., 2., 2., 4., 2., 2., 2., 4., 2., 4., 4., 4., 2.,\n",
       "       2., 2., 2., 2., 2., 2., 4., 4., 4., 2., 2., 2., 2., 2., 2., 2., 2.,\n",
       "       2., 2., 2., 4., 2., 2., 4., 4., 2., 2., 2., 4., 4., 4., 2., 4., 2.,\n",
       "       4., 2., 2., 2., 2., 2., 2., 2., 2., 2., 2., 2., 2., 4., 2., 2., 2.,\n",
       "       2., 2., 2., 2., 4., 4., 2., 2., 2., 4., 2., 2., 4., 4., 2., 2., 2.,\n",
       "       2., 2., 2., 4., 2., 2., 2., 2., 2., 2., 2., 2., 2., 2., 2., 2., 2.,\n",
       "       2., 2., 4., 2., 2., 4., 2., 2., 2., 2., 2., 2., 2., 2., 2., 2., 2.,\n",
       "       2., 2., 2., 2., 4., 2., 2., 4., 4., 4., 4., 2., 2., 4., 2., 2., 2.,\n",
       "       2., 2., 2., 4., 4., 2., 2., 2., 4., 2., 4., 2., 4., 4., 4., 2., 4.,\n",
       "       2., 2., 2., 2., 2., 2., 2., 2., 4., 4., 4., 2., 2., 4., 2., 4., 4.,\n",
       "       4., 2., 2., 2., 2., 2., 2., 2., 2., 2., 2., 2., 2., 2., 4., 2., 2.,\n",
       "       2., 2., 2., 2., 4., 2., 2., 4., 2., 2., 2., 2., 2., 2., 2., 2., 2.,\n",
       "       2., 2., 4., 2., 2., 2., 2., 2., 2., 2., 2., 2., 4., 2., 2., 2., 2.,\n",
       "       2., 2., 2., 2., 2., 4., 4., 4., 2., 2., 2., 2., 2., 2., 2., 2., 2.,\n",
       "       4., 4., 2., 2., 2., 2., 2., 2., 2., 2., 2., 4., 2., 2., 2., 2., 4.,\n",
       "       4., 4.])"
      ]
     },
     "metadata": {},
     "output_type": "display_data"
    },
    {
     "name": "stdout",
     "output_type": "stream",
     "text": [
      "(699,)\n"
     ]
    }
   ],
   "source": [
    "# Assign to the array \"y\" the labels from the array \n",
    "y = data[:,10]\n",
    "display(y)\n",
    "print(y.shape)"
   ]
  },
  {
   "cell_type": "code",
   "execution_count": 7,
   "metadata": {
    "scrolled": true
   },
   "outputs": [
    {
     "data": {
      "text/plain": [
       "array([0., 0., 0., 0., 0., 1., 0., 0., 0., 0., 0., 0., 1., 0., 1., 1., 0.,\n",
       "       0., 1., 0., 1., 1., 0., 1., 0., 1., 0., 0., 0., 0., 0., 0., 1., 0.,\n",
       "       0., 0., 1., 0., 1., 1., 0., 1., 1., 1., 1., 0., 1., 0., 0., 1., 1.,\n",
       "       1., 1., 1., 1., 1., 1., 1., 1., 1., 1., 0., 1., 1., 0., 1., 0., 1.,\n",
       "       1., 0., 0., 1., 0., 1., 1., 0., 0., 0., 0., 0., 0., 0., 0., 0., 1.,\n",
       "       1., 1., 1., 0., 0., 0., 0., 0., 0., 0., 0., 0., 0., 1., 1., 1., 1.,\n",
       "       0., 1., 1., 1., 1., 1., 0., 1., 0., 1., 1., 1., 0., 0., 0., 1., 0.,\n",
       "       0., 0., 0., 1., 1., 1., 0., 1., 0., 1., 0., 0., 0., 1., 0., 0., 0.,\n",
       "       0., 0., 0., 0., 0., 0., 1., 0., 0., 0., 1., 0., 0., 1., 0., 1., 1.,\n",
       "       0., 0., 1., 0., 0., 0., 1., 1., 0., 0., 0., 0., 0., 1., 1., 0., 0.,\n",
       "       0., 0., 0., 1., 1., 1., 0., 1., 0., 1., 0., 0., 0., 1., 1., 0., 1.,\n",
       "       1., 1., 0., 1., 1., 0., 0., 0., 0., 0., 0., 0., 0., 1., 1., 0., 0.,\n",
       "       0., 1., 1., 0., 0., 0., 1., 1., 0., 1., 1., 1., 0., 0., 1., 0., 0.,\n",
       "       1., 1., 1., 1., 0., 1., 1., 0., 1., 1., 1., 0., 1., 0., 0., 1., 1.,\n",
       "       1., 1., 0., 0., 0., 0., 0., 0., 1., 1., 0., 0., 0., 1., 0., 1., 1.,\n",
       "       1., 0., 0., 0., 0., 1., 1., 1., 1., 1., 0., 1., 1., 1., 0., 1., 0.,\n",
       "       1., 1., 0., 0., 0., 0., 0., 1., 0., 0., 1., 1., 1., 1., 1., 0., 1.,\n",
       "       1., 0., 0., 1., 1., 0., 1., 0., 0., 0., 1., 1., 0., 1., 0., 1., 1.,\n",
       "       0., 0., 1., 0., 0., 0., 1., 0., 0., 0., 1., 1., 0., 0., 1., 0., 0.,\n",
       "       1., 0., 0., 1., 0., 1., 1., 1., 0., 0., 1., 1., 0., 1., 0., 0., 1.,\n",
       "       1., 0., 0., 0., 1., 0., 0., 0., 1., 1., 0., 0., 0., 1., 0., 0., 1.,\n",
       "       1., 1., 1., 1., 1., 0., 0., 0., 0., 1., 1., 0., 0., 0., 0., 0., 0.,\n",
       "       0., 0., 0., 0., 0., 0., 0., 1., 0., 0., 0., 0., 1., 0., 0., 0., 0.,\n",
       "       1., 0., 0., 0., 0., 0., 0., 0., 0., 1., 0., 0., 0., 0., 0., 0., 0.,\n",
       "       0., 0., 0., 0., 1., 0., 1., 0., 1., 0., 0., 0., 0., 1., 0., 0., 0.,\n",
       "       1., 0., 1., 0., 0., 0., 0., 0., 0., 0., 1., 1., 0., 0., 0., 1., 0.,\n",
       "       0., 0., 0., 0., 0., 0., 0., 1., 0., 0., 0., 1., 0., 1., 1., 1., 0.,\n",
       "       0., 0., 0., 0., 0., 0., 1., 1., 1., 0., 0., 0., 0., 0., 0., 0., 0.,\n",
       "       0., 0., 0., 1., 0., 0., 1., 1., 0., 0., 0., 1., 1., 1., 0., 1., 0.,\n",
       "       1., 0., 0., 0., 0., 0., 0., 0., 0., 0., 0., 0., 0., 1., 0., 0., 0.,\n",
       "       0., 0., 0., 0., 1., 1., 0., 0., 0., 1., 0., 0., 1., 1., 0., 0., 0.,\n",
       "       0., 0., 0., 1., 0., 0., 0., 0., 0., 0., 0., 0., 0., 0., 0., 0., 0.,\n",
       "       0., 0., 1., 0., 0., 1., 0., 0., 0., 0., 0., 0., 0., 0., 0., 0., 0.,\n",
       "       0., 0., 0., 0., 1., 0., 0., 1., 1., 1., 1., 0., 0., 1., 0., 0., 0.,\n",
       "       0., 0., 0., 1., 1., 0., 0., 0., 1., 0., 1., 0., 1., 1., 1., 0., 1.,\n",
       "       0., 0., 0., 0., 0., 0., 0., 0., 1., 1., 1., 0., 0., 1., 0., 1., 1.,\n",
       "       1., 0., 0., 0., 0., 0., 0., 0., 0., 0., 0., 0., 0., 0., 1., 0., 0.,\n",
       "       0., 0., 0., 0., 1., 0., 0., 1., 0., 0., 0., 0., 0., 0., 0., 0., 0.,\n",
       "       0., 0., 1., 0., 0., 0., 0., 0., 0., 0., 0., 0., 1., 0., 0., 0., 0.,\n",
       "       0., 0., 0., 0., 0., 1., 1., 1., 0., 0., 0., 0., 0., 0., 0., 0., 0.,\n",
       "       1., 1., 0., 0., 0., 0., 0., 0., 0., 0., 0., 1., 0., 0., 0., 0., 1.,\n",
       "       1., 1.])"
      ]
     },
     "metadata": {},
     "output_type": "display_data"
    }
   ],
   "source": [
    "# Converting the y array items from 2 and 4 to 1 and 2\n",
    "y[y == 2] = 0\n",
    "y[y == 4] = 1\n",
    "display(y)"
   ]
  },
  {
   "cell_type": "code",
   "execution_count": 8,
   "metadata": {
    "scrolled": true
   },
   "outputs": [
    {
     "name": "stdout",
     "output_type": "stream",
     "text": [
      "None\n"
     ]
    },
    {
     "data": {
      "text/plain": [
       "array([[1.115762e+06, 3.000000e+00, 1.000000e+00, ..., 1.000000e+00,\n",
       "        1.000000e+00, 1.000000e+00],\n",
       "       [1.190485e+06, 1.000000e+00, 1.000000e+00, ..., 1.000000e+00,\n",
       "        1.000000e+00, 1.000000e+00],\n",
       "       [1.184241e+06, 2.000000e+00, 1.000000e+00, ..., 2.000000e+00,\n",
       "        1.000000e+00, 1.000000e+00],\n",
       "       ...,\n",
       "       [3.908400e+05, 8.000000e+00, 4.000000e+00, ..., 3.000000e+00,\n",
       "        9.000000e+00, 2.000000e+00],\n",
       "       [1.222464e+06, 6.000000e+00, 1.000000e+01, ..., 7.000000e+00,\n",
       "        1.000000e+01, 1.000000e+00],\n",
       "       [1.197510e+06, 5.000000e+00, 1.000000e+00, ..., 3.000000e+00,\n",
       "        1.000000e+00, 1.000000e+00]])"
      ]
     },
     "metadata": {},
     "output_type": "display_data"
    },
    {
     "name": "stdout",
     "output_type": "stream",
     "text": [
      "None\n"
     ]
    },
    {
     "data": {
      "text/plain": [
       "array([1., 1., 0., 1., 0., 1., 0., 1., 1., 0., 1., 0., 1., 0., 0., 0., 0.,\n",
       "       0., 1., 0., 0., 0., 0., 0., 0., 1., 1., 1., 0., 1., 0., 1., 0., 0.,\n",
       "       0., 0., 0., 1., 0., 0., 0., 1., 1., 1., 0., 0., 0., 1., 0., 0., 1.,\n",
       "       0., 0., 0., 0., 1., 1., 0., 0., 1., 1., 1., 0., 1., 0., 0., 0., 0.,\n",
       "       0., 0., 1., 1., 0., 0., 1., 0., 1., 0., 1., 0., 1., 0., 0., 1., 1.,\n",
       "       0., 0., 1., 0., 0., 0., 0., 0., 0., 0., 0., 0., 0., 0., 0., 1., 1.,\n",
       "       1., 0., 0., 0., 0., 1., 0., 1., 0., 0., 0., 1., 0., 0., 0., 1., 1.,\n",
       "       1., 0., 0., 0., 0., 0., 0., 0., 0., 1., 0., 0., 0., 0., 0., 1., 1.,\n",
       "       1., 0., 0., 1., 0., 0., 0., 1., 1., 0., 0., 1., 0., 0., 1., 0., 0.,\n",
       "       1., 0., 1., 0., 1., 1., 0., 0., 1., 0., 0., 0., 0., 0., 0., 1., 1.,\n",
       "       0., 0., 0., 1., 0., 0., 1., 0., 0., 1., 0., 1., 0., 1., 0., 0., 0.,\n",
       "       0., 0., 0., 0., 0., 0., 1., 0., 0., 1., 1., 0., 0., 1., 0., 1., 1.,\n",
       "       1., 1., 1., 0., 0., 0., 1., 0., 0., 0., 0., 0., 0., 1., 1., 0., 0.,\n",
       "       0., 1., 0., 1., 1., 0., 1., 0., 0., 1., 1., 0., 0., 1., 0., 1., 0.,\n",
       "       1., 0., 0., 0., 1., 0., 0., 1., 1., 0., 0., 0., 1., 0., 0., 0., 1.,\n",
       "       0., 0., 0., 0., 0., 0., 0., 0., 1., 0., 0., 0., 0., 0., 0., 0., 0.,\n",
       "       1., 0., 0., 0., 0., 0., 0., 0., 1., 0., 0., 0., 1., 0., 1., 0., 0.,\n",
       "       1., 0., 1., 0., 0., 1., 0., 0., 0., 1., 1., 0., 0., 1., 0., 0., 0.,\n",
       "       0., 0., 0., 0., 0., 0., 0., 0., 1., 0., 0., 1., 0., 1., 1., 0., 0.,\n",
       "       0., 0., 0., 1., 0., 0., 1., 1., 0., 0., 0., 0., 0., 1., 0., 0., 1.,\n",
       "       0., 0., 1., 1., 0., 0., 0., 0., 0., 1., 1., 0., 1., 0., 0., 1., 0.,\n",
       "       1., 1., 1., 0., 0., 0., 1., 1., 0., 0., 0., 0., 0., 0., 0., 1., 0.,\n",
       "       0., 0., 0., 0., 0., 1., 0., 1., 1., 1., 0., 1., 0., 0., 1., 0., 0.,\n",
       "       1., 0., 1., 1., 0., 0., 0., 0., 1., 1., 0., 0., 0., 0., 0., 0., 0.,\n",
       "       0., 0., 0., 0., 1., 0., 1., 0., 0., 1., 1., 1., 0., 1., 0., 0., 0.,\n",
       "       0., 0., 0., 0., 0., 0., 0., 0., 0., 0., 1., 0., 0., 0., 0., 1., 0.,\n",
       "       1., 1., 1., 1., 0., 1., 0., 1., 1., 0., 1., 0., 0., 0., 1., 1., 0.,\n",
       "       1., 0., 1., 0., 0., 1., 0., 0., 0., 0., 0., 1., 0., 0., 1., 0., 0.,\n",
       "       0., 0., 1., 0., 0., 0., 1., 0., 1., 0., 1., 0., 0., 1., 1., 0., 1.,\n",
       "       1., 0., 0., 0., 1., 1., 1., 0., 0., 1., 1., 0., 1., 0., 0., 0., 0.,\n",
       "       0., 0., 0., 0., 1., 1., 0., 0., 0., 0., 0., 0., 1., 1., 1., 0., 1.,\n",
       "       0., 0., 1., 0., 1., 0., 0., 0., 0., 0., 0., 0., 0., 1., 0., 0., 0.,\n",
       "       1., 1., 0., 0., 1., 0., 1., 0., 0., 0., 0., 1., 1., 0., 1., 0., 0.,\n",
       "       1., 0., 1., 1., 1., 0., 1., 0., 1., 0., 0., 0., 0., 0., 1., 0., 1.,\n",
       "       1., 0., 0., 1., 1., 0., 1., 1., 0., 1., 1., 0., 0., 1., 0., 1., 0.,\n",
       "       0., 0., 1., 0., 0., 0., 1., 0., 0., 1., 1., 0., 0., 1., 0., 0., 0.,\n",
       "       0., 0., 1., 0., 0., 1., 1., 0., 0., 1., 1., 0., 0., 1., 1., 0., 0.,\n",
       "       0., 0., 1., 1., 0., 0., 0., 0., 1., 0., 0., 1., 1., 1., 1., 0., 1.,\n",
       "       0., 0., 0., 0., 1., 1., 0., 1., 0., 0., 0., 0., 1., 1., 0., 0., 1.,\n",
       "       1., 1., 1., 1., 0., 1., 0., 1., 0., 0., 1., 0., 0., 1., 0., 0., 0.,\n",
       "       0., 0., 0., 0., 0., 1., 0., 0., 1., 0., 0., 0., 0., 0., 0., 1., 0.,\n",
       "       0., 0.])"
      ]
     },
     "metadata": {},
     "output_type": "display_data"
    }
   ],
   "source": [
    "# Shuffle the rows of the array\n",
    "print(np.random.shuffle(X))\n",
    "display(X)\n",
    "print(np.random.shuffle(y))\n",
    "display(y)"
   ]
  },
  {
   "cell_type": "code",
   "execution_count": 9,
   "metadata": {
    "scrolled": true
   },
   "outputs": [
    {
     "name": "stdout",
     "output_type": "stream",
     "text": [
      "X_train= \n",
      " [[1.183240e+06 4.000000e+00 1.000000e+00 ... 2.000000e+00 1.000000e+00\n",
      "  1.000000e+00]\n",
      " [1.293439e+06 6.000000e+00 9.000000e+00 ... 4.000000e+00 2.000000e+00\n",
      "  1.000000e+00]\n",
      " [1.103722e+06 1.000000e+00 1.000000e+00 ... 2.000000e+00 1.000000e+00\n",
      "  2.000000e+00]\n",
      " ...\n",
      " [4.669060e+05 1.000000e+00 1.000000e+00 ... 1.000000e+00 1.000000e+00\n",
      "  1.000000e+00]\n",
      " [1.205138e+06 5.000000e+00 8.000000e+00 ... 7.000000e+00 8.000000e+00\n",
      "  1.000000e+00]\n",
      " [1.168359e+06 8.000000e+00 2.000000e+00 ... 7.000000e+00 1.000000e+00\n",
      "  1.000000e+00]]\n",
      "\n",
      "X_test= \n",
      " [[1.018099e+06 1.000000e+00 1.000000e+00 ... 3.000000e+00 1.000000e+00\n",
      "  1.000000e+00]\n",
      " [1.214556e+06 3.000000e+00 1.000000e+00 ... 2.000000e+00 1.000000e+00\n",
      "  1.000000e+00]\n",
      " [1.368273e+06 1.000000e+00 1.000000e+00 ... 1.000000e+00 1.000000e+00\n",
      "  1.000000e+00]\n",
      " ...\n",
      " [1.018561e+06 2.000000e+00 1.000000e+00 ... 3.000000e+00 1.000000e+00\n",
      "  1.000000e+00]\n",
      " [6.364370e+05 1.000000e+00 1.000000e+00 ... 1.000000e+00 1.000000e+00\n",
      "  1.000000e+00]\n",
      " [1.352663e+06 5.000000e+00 4.000000e+00 ... 8.000000e+00 1.000000e+01\n",
      "  1.000000e+00]]\n",
      "\n",
      "y_train= \n",
      " [1. 0. 1. 0. 0. 0. 0. 1. 1. 1. 0. 0. 0. 0. 0. 0. 0. 1. 1. 1. 0. 0. 1. 0.\n",
      " 0. 0. 0. 1. 1. 0. 0. 1. 0. 0. 0. 1. 0. 1. 0. 0. 0. 1. 0. 1. 0. 1. 0. 1.\n",
      " 0. 0. 0. 0. 0. 1. 0. 0. 1. 0. 0. 0. 0. 0. 0. 0. 0. 0. 0. 1. 1. 0. 1. 0.\n",
      " 1. 0. 0. 1. 1. 0. 0. 0. 0. 1. 1. 1. 0. 0. 1. 0. 1. 0. 1. 0. 0. 0. 0. 0.\n",
      " 1. 0. 0. 0. 0. 0. 1. 1. 0. 0. 0. 0. 1. 0. 1. 1. 1. 1. 1. 1. 1. 0. 1. 0.\n",
      " 1. 0. 1. 1. 0. 1. 1. 0. 1. 0. 1. 0. 0. 0. 0. 0. 1. 0. 0. 0. 0. 0. 0. 1.\n",
      " 0. 0. 1. 0. 0. 0. 0. 0. 0. 1. 0. 0. 1. 1. 0. 0. 0. 0. 1. 0. 1. 1. 0. 0.\n",
      " 1. 0. 0. 0. 0. 0. 0. 0. 1. 1. 0. 1. 0. 0. 0. 0. 0. 0. 0. 0. 1. 1. 0. 0.\n",
      " 1. 0. 0. 1. 0. 0. 1. 0. 0. 0. 1. 1. 1. 0. 1. 0. 0. 0. 0. 1. 0. 1. 0. 0.\n",
      " 0. 0. 1. 0. 0. 1. 0. 0. 0. 1. 0. 1. 0. 0. 0. 1. 0. 1. 0. 1. 1. 0. 0. 0.\n",
      " 0. 1. 0. 1. 0. 0. 0. 1. 0. 0. 0. 1. 0. 0. 1. 1. 0. 0. 0. 0. 1. 0. 0. 0.\n",
      " 0. 1. 1. 0. 0. 1. 0. 1. 1. 0. 1. 0. 1. 1. 0. 0. 0. 0. 0. 0. 1. 1. 1. 0.\n",
      " 1. 1. 0. 0. 0. 0. 0. 0. 0. 0. 0. 0. 0. 0. 1. 0. 0. 0. 1. 0. 0. 0. 0. 0.\n",
      " 1. 0. 0. 0. 0. 0. 0. 0. 0. 1. 1. 0. 0. 1. 1. 0. 0. 1. 0. 0. 0. 0. 0. 0.\n",
      " 0. 0. 1. 0. 0. 0. 1. 1. 1. 1. 1. 0. 0. 0. 0. 0. 0. 1. 0. 0. 0. 1. 0. 0.\n",
      " 0. 1. 1. 1. 1. 0. 0. 0. 0. 1. 0. 1. 0. 0. 0. 0. 1. 0. 1. 0. 0. 0. 1. 0.\n",
      " 0. 1. 0. 1. 0. 0. 1. 1. 1. 1. 0. 0. 0. 0. 0. 1. 0. 0. 0. 1. 0. 0. 1. 0.\n",
      " 1. 1. 1. 0. 1. 0. 0. 1. 1. 1. 0. 1. 1. 0. 1. 0. 0. 0. 1. 0. 1. 0. 0. 0.\n",
      " 0. 0. 0. 1. 0. 0. 1. 1. 0. 1. 1. 1. 0. 0. 1. 1. 0. 0. 1. 1. 1. 0. 0. 0.\n",
      " 0. 0. 0. 1. 1. 0. 0. 1. 0. 0. 1. 1. 1. 0. 0. 0. 1. 0. 0. 0. 0. 0. 0. 0.\n",
      " 1. 0. 0. 0. 0. 0. 1. 0. 1. 0. 1. 0. 1. 0. 0. 0. 0. 0. 0. 1. 1. 1. 0. 0.\n",
      " 0. 0. 1. 0. 1. 0. 1. 0. 1. 1. 0. 1. 0. 0. 0. 0. 1. 1. 0. 0. 0. 0. 0. 0.\n",
      " 0. 0. 0. 0. 0. 0. 1. 0. 0. 0. 0. 0. 0. 1. 1. 0. 0. 1. 0. 0. 1. 1. 0. 1.\n",
      " 0. 1. 0. 1. 0. 1. 0.]\n",
      "\n",
      "y_test= \n",
      " [0. 0. 1. 0. 0. 0. 0. 0. 0. 0. 0. 1. 1. 1. 0. 0. 1. 0. 0. 0. 1. 0. 0. 1.\n",
      " 0. 0. 0. 0. 0. 1. 0. 1. 1. 0. 1. 0. 0. 1. 0. 0. 1. 0. 0. 0. 0. 1. 0. 0.\n",
      " 0. 1. 1. 0. 0. 0. 0. 1. 0. 0. 0. 0. 0. 1. 0. 1. 0. 1. 0. 1. 1. 0. 0. 1.\n",
      " 0. 1. 0. 0. 0. 1. 1. 0. 0. 0. 1. 0. 0. 0. 1. 1. 0. 0. 1. 1. 0. 0. 1. 0.\n",
      " 1. 0. 1. 0. 1. 1. 1. 0. 1. 0. 1. 0. 0. 0. 1. 0. 0. 0. 1. 1. 0. 0. 0. 1.\n",
      " 0. 1. 0. 0. 1. 0. 0. 0. 0. 1. 0. 0. 0. 0. 0. 0. 1. 1. 0. 0.]\n"
     ]
    }
   ],
   "source": [
    "# Split the data into training and testing subsets\n",
    "from sklearn.model_selection import train_test_split\n",
    "X_train, X_test, y_train, y_test = train_test_split(X, y, test_size=0.2, random_state=47, stratify = y)\n",
    "\n",
    "print(\"X_train= \\n\", X_train)\n",
    "print(\"\\nX_test= \\n\", X_test)\n",
    "print(\"\\ny_train= \\n\", y_train)\n",
    "print(\"\\ny_test= \\n\", y_test)"
   ]
  },
  {
   "cell_type": "code",
   "execution_count": 10,
   "metadata": {},
   "outputs": [
    {
     "name": "stdout",
     "output_type": "stream",
     "text": [
      "(559, 10)\n",
      "(140, 10)\n",
      "(559,)\n",
      "(140,)\n"
     ]
    }
   ],
   "source": [
    "print(X_train.shape)\n",
    "\n",
    "print(X_test.shape)\n",
    "\n",
    "print(y_train.shape)\n",
    "\n",
    "print(y_test.shape)"
   ]
  },
  {
   "cell_type": "code",
   "execution_count": 11,
   "metadata": {},
   "outputs": [
    {
     "name": "stdout",
     "output_type": "stream",
     "text": [
      "Accuracy: 0.6571428571428571\n",
      "Confusion matrix:\n",
      " [[92  0]\n",
      " [48  0]]\n"
     ]
    }
   ],
   "source": [
    "from sklearn.neural_network import MLPClassifier\n",
    "from sklearn.metrics import confusion_matrix, classification_report\n",
    "from sklearn.metrics import accuracy_score\n",
    "\n",
    "mlp = MLPClassifier(hidden_layer_sizes=(8,), max_iter=12, random_state=42)\n",
    "mlp.fit(X_train, y_train)\n",
    "\n",
    "y_pred = mlp.predict(X_test)\n",
    "\n",
    "print('Accuracy:', accuracy_score(y_test, y_pred))\n",
    "\n",
    "print(\"Confusion matrix:\\n\", confusion_matrix(y_test, y_pred))\n",
    "\n",
    "# The number of epochs that are requied to reduce the error to a minimum is 12 since anything \n",
    "# less than 12 throws a convergence warning saying that it has not converged yet"
   ]
  },
  {
   "cell_type": "code",
   "execution_count": 12,
   "metadata": {},
   "outputs": [
    {
     "data": {
      "image/png": "[encoded data removed]",
      "text/plain": [
       "<Figure size 640x480 with 1 Axes>"
      ]
     },
     "metadata": {},
     "output_type": "display_data"
    }
   ],
   "source": [
    "# Shows the loss plot as the function of the number of iterations with the 20% test data size \n",
    "# and the use of the cross-entropy to evaluate the loss\n",
    "plt.scatter(y_test,y_pred)\n",
    "plt.xlabel('real test values')\n",
    "plt.ylabel('predicted values')\n",
    "plt.show()"
   ]
  },
  {
   "cell_type": "code",
   "execution_count": 13,
   "metadata": {},
   "outputs": [
    {
     "name": "stdout",
     "output_type": "stream",
     "text": [
      "Accuracy: 0.6571428571428571\n",
      "Confusion matrix:\n",
      " [[92  0]\n",
      " [48  0]]\n"
     ]
    }
   ],
   "source": [
    "mlp = MLPClassifier(hidden_layer_sizes=(5,), max_iter=12, random_state=42)\n",
    "mlp.fit(X_train, y_train)\n",
    "\n",
    "y_pred = mlp.predict(X_test)\n",
    "\n",
    "print('Accuracy:', accuracy_score(y_test, y_pred))\n",
    "\n",
    "print(\"Confusion matrix:\\n\", confusion_matrix(y_test, y_pred))"
   ]
  },
  {
   "cell_type": "code",
   "execution_count": 14,
   "metadata": {},
   "outputs": [
    {
     "name": "stdout",
     "output_type": "stream",
     "text": [
      "Accuracy: 0.34285714285714286\n",
      "Confusion matrix:\n",
      " [[ 0 92]\n",
      " [ 0 48]]\n"
     ]
    }
   ],
   "source": [
    "mlp = MLPClassifier(hidden_layer_sizes=(10,), max_iter=12, random_state=42)\n",
    "mlp.fit(X_train, y_train)\n",
    "\n",
    "y_pred = mlp.predict(X_test)\n",
    "\n",
    "print('Accuracy:', accuracy_score(y_test, y_pred))\n",
    "\n",
    "print(\"Confusion matrix:\\n\", confusion_matrix(y_test, y_pred))"
   ]
  },
  {
   "cell_type": "code",
   "execution_count": 15,
   "metadata": {},
   "outputs": [
    {
     "name": "stdout",
     "output_type": "stream",
     "text": [
      "X_train= \n",
      " [[1.238186e+06 4.000000e+00 1.000000e+00 ... 2.000000e+00 1.000000e+00\n",
      "  1.000000e+00]\n",
      " [1.277145e+06 5.000000e+00 1.000000e+00 ... 1.000000e+00 1.000000e+00\n",
      "  1.000000e+00]\n",
      " [1.217717e+06 5.000000e+00 1.000000e+00 ... 1.000000e+00 1.000000e+00\n",
      "  1.000000e+00]\n",
      " ...\n",
      " [1.121919e+06 5.000000e+00 1.000000e+00 ... 2.000000e+00 1.000000e+00\n",
      "  1.000000e+00]\n",
      " [1.168359e+06 8.000000e+00 2.000000e+00 ... 7.000000e+00 1.000000e+00\n",
      "  1.000000e+00]\n",
      " [1.257608e+06 6.000000e+00 1.000000e+00 ... 1.000000e+00 1.000000e+00\n",
      "  1.000000e+00]]\n",
      "\n",
      "X_test= \n",
      " [[1.193683e+06 1.000000e+00 1.000000e+00 ... 1.000000e+00 1.000000e+00\n",
      "  1.000000e+00]\n",
      " [1.184586e+06 4.000000e+00 1.000000e+00 ... 2.000000e+00 1.000000e+00\n",
      "  1.000000e+00]\n",
      " [1.156017e+06 3.000000e+00 1.000000e+00 ... 2.000000e+00 1.000000e+00\n",
      "  1.000000e+00]\n",
      " ...\n",
      " [1.183983e+06 9.000000e+00 5.000000e+00 ... 4.000000e+00 3.000000e+00\n",
      "  3.000000e+00]\n",
      " [1.293439e+06 3.000000e+00 2.000000e+00 ... 1.000000e+00 1.000000e+00\n",
      "  1.000000e+00]\n",
      " [1.211202e+06 7.000000e+00 5.000000e+00 ... 4.000000e+00 1.000000e+01\n",
      "  3.000000e+00]]\n",
      "\n",
      "y_train= \n",
      " [0. 0. 1. 1. 0. 0. 0. 0. 1. 0. 0. 1. 0. 0. 1. 1. 0. 0. 0. 1. 1. 1. 0. 0.\n",
      " 0. 1. 0. 0. 0. 0. 0. 1. 0. 0. 1. 0. 1. 0. 0. 1. 0. 0. 0. 0. 1. 0. 0. 1.\n",
      " 0. 1. 0. 0. 0. 1. 0. 0. 1. 0. 1. 0. 0. 0. 1. 0. 0. 0. 0. 1. 0. 1. 1. 1.\n",
      " 1. 0. 0. 0. 1. 1. 0. 0. 0. 0. 1. 0. 0. 1. 1. 0. 0. 0. 0. 0. 1. 0. 1. 1.\n",
      " 0. 0. 1. 0. 0. 0. 0. 1. 0. 0. 0. 1. 0. 0. 1. 0. 0. 0. 1. 1. 0. 1. 0. 0.\n",
      " 0. 1. 0. 0. 0. 0. 1. 0. 0. 1. 1. 0. 0. 0. 0. 0. 1. 0. 0. 0. 0. 0. 0. 1.\n",
      " 1. 1. 0. 0. 1. 0. 1. 0. 0. 0. 1. 1. 0. 1. 1. 0. 0. 0. 0. 0. 1. 0. 0. 0.\n",
      " 0. 0. 0. 0. 1. 0. 1. 1. 0. 0. 0. 0. 0. 0. 0. 0. 1. 1. 0. 1. 0. 0. 0. 1.\n",
      " 0. 1. 0. 1. 0. 0. 0. 1. 0. 1. 0. 0. 1. 0. 0. 1. 0. 1. 1. 1. 0. 0. 0. 1.\n",
      " 0. 0. 0. 0. 1. 0. 0. 0. 0. 0. 1. 0. 0. 0. 0. 1. 1. 1. 1. 0. 0. 0. 0. 0.\n",
      " 0. 1. 1. 0. 1. 0. 0. 0. 1. 0. 1. 0. 1. 0. 0. 0. 0. 1. 0. 0. 1. 1. 0. 1.\n",
      " 1. 1. 0. 0. 0. 1. 0. 0. 0. 1. 0. 0. 1. 1. 0. 1. 0. 0. 1. 1. 1. 1. 1. 0.\n",
      " 0. 0. 1. 0. 0. 0. 0. 1. 0. 1. 1. 0. 1. 0. 0. 0. 1. 1. 0. 1. 1. 0. 0. 0.\n",
      " 0. 1. 0. 0. 1. 0. 1. 0. 0. 0. 0. 0. 0. 1. 0. 1. 0. 0. 0. 0. 0. 0. 0. 1.\n",
      " 1. 1. 1. 0. 0. 0. 0. 0. 1. 0. 1. 0. 1. 0. 1. 1. 0. 0. 0. 0. 1. 1. 0. 0.\n",
      " 0. 0. 1. 0. 0. 1. 0. 0. 0. 0. 0. 0. 0. 0. 1. 1. 0. 0. 0. 0. 0. 1. 0. 0.\n",
      " 1. 1. 0. 0. 0. 1. 1. 0. 0. 0. 0. 1. 0. 0. 0. 0. 0. 1. 1. 0. 0. 0. 0. 1.\n",
      " 1. 0. 1. 1. 1. 0. 0. 1. 0. 0. 0.]\n",
      "\n",
      "y_test= \n",
      " [0. 0. 0. 0. 1. 0. 1. 0. 1. 1. 0. 0. 1. 0. 0. 0. 1. 1. 0. 0. 1. 0. 1. 0.\n",
      " 1. 0. 0. 0. 0. 1. 1. 0. 1. 0. 0. 1. 0. 0. 1. 0. 0. 0. 0. 1. 0. 1. 0. 0.\n",
      " 1. 0. 0. 0. 0. 0. 0. 0. 0. 1. 1. 1. 0. 0. 0. 1. 0. 0. 0. 0. 1. 1. 0. 0.\n",
      " 1. 0. 1. 0. 0. 0. 1. 0. 0. 0. 1. 0. 0. 0. 0. 0. 0. 0. 0. 1. 0. 0. 0. 1.\n",
      " 0. 1. 0. 1. 1. 0. 0. 0. 0. 0. 1. 0. 0. 1. 0. 0. 1. 0. 0. 0. 0. 0. 0. 1.\n",
      " 0. 0. 1. 0. 0. 0. 0. 0. 1. 1. 0. 0. 0. 0. 0. 1. 1. 0. 1. 1. 0. 0. 1. 1.\n",
      " 0. 0. 1. 0. 0. 0. 0. 1. 1. 0. 0. 1. 0. 1. 0. 1. 0. 0. 1. 1. 0. 0. 0. 1.\n",
      " 0. 1. 0. 0. 0. 0. 0. 0. 1. 1. 0. 0. 0. 1. 1. 0. 0. 0. 0. 0. 0. 1. 0. 0.\n",
      " 1. 0. 0. 1. 0. 1. 1. 1. 1. 1. 0. 0. 1. 0. 0. 1. 1. 0. 1. 1. 1. 1. 0. 1.\n",
      " 1. 1. 0. 1. 0. 1. 1. 0. 0. 0. 0. 0. 0. 0. 0. 0. 1. 0. 0. 1. 0. 0. 0. 0.\n",
      " 1. 1. 0. 0. 0. 0. 0. 1. 0. 1. 0. 1. 0. 0. 1. 0. 1. 0. 0. 1. 1. 0. 0. 0.\n",
      " 0. 0. 0. 0. 0. 0. 1. 1. 1. 0. 0. 0. 0. 0. 1. 1.]\n"
     ]
    }
   ],
   "source": [
    "# Splitting into difference percentage of test sizes - 60%/40%\n",
    "from sklearn.model_selection import train_test_split\n",
    "X_train, X_test, y_train, y_test = train_test_split(X, y, test_size=0.4, random_state=47, stratify = y)\n",
    "\n",
    "print(\"X_train= \\n\", X_train)\n",
    "print(\"\\nX_test= \\n\", X_test)\n",
    "print(\"\\ny_train= \\n\", y_train)\n",
    "print(\"\\ny_test= \\n\", y_test)"
   ]
  },
  {
   "cell_type": "code",
   "execution_count": 16,
   "metadata": {},
   "outputs": [
    {
     "name": "stdout",
     "output_type": "stream",
     "text": [
      "Accuracy: 0.6535714285714286\n",
      "Confusion matrix:\n",
      " [[183   0]\n",
      " [ 97   0]]\n"
     ]
    }
   ],
   "source": [
    "from sklearn.neural_network import MLPClassifier\n",
    "from sklearn.metrics import confusion_matrix, classification_report\n",
    "from sklearn.metrics import accuracy_score\n",
    "\n",
    "mlp = MLPClassifier(hidden_layer_sizes=(8,), max_iter=12, random_state=42)\n",
    "mlp.fit(X_train, y_train)\n",
    "\n",
    "y_pred = mlp.predict(X_test)\n",
    "\n",
    "print('Accuracy:', accuracy_score(y_test, y_pred))\n",
    "\n",
    "print(\"Confusion matrix:\\n\", confusion_matrix(y_test, y_pred))"
   ]
  },
  {
   "cell_type": "code",
   "execution_count": 17,
   "metadata": {},
   "outputs": [
    {
     "name": "stdout",
     "output_type": "stream",
     "text": [
      "Accuracy: 0.6535714285714286\n",
      "Confusion matrix:\n",
      " [[183   0]\n",
      " [ 97   0]]\n"
     ]
    }
   ],
   "source": [
    "mlp = MLPClassifier(hidden_layer_sizes=(5,), max_iter=12, random_state=42)\n",
    "mlp.fit(X_train, y_train)\n",
    "\n",
    "y_pred = mlp.predict(X_test)\n",
    "\n",
    "print('Accuracy:', accuracy_score(y_test, y_pred))\n",
    "\n",
    "print(\"Confusion matrix:\\n\", confusion_matrix(y_test, y_pred))"
   ]
  },
  {
   "cell_type": "code",
   "execution_count": 18,
   "metadata": {},
   "outputs": [
    {
     "name": "stdout",
     "output_type": "stream",
     "text": [
      "Accuracy: 0.3464285714285714\n",
      "Confusion matrix:\n",
      " [[  0 183]\n",
      " [  0  97]]\n"
     ]
    }
   ],
   "source": [
    "mlp = MLPClassifier(hidden_layer_sizes=(10,), max_iter=12, random_state=42)\n",
    "mlp.fit(X_train, y_train)\n",
    "\n",
    "y_pred = mlp.predict(X_test)\n",
    "\n",
    "print('Accuracy:', accuracy_score(y_test, y_pred))\n",
    "\n",
    "print(\"Confusion matrix:\\n\", confusion_matrix(y_test, y_pred))"
   ]
  },
  {
   "cell_type": "code",
   "execution_count": 19,
   "metadata": {},
   "outputs": [
    {
     "name": "stdout",
     "output_type": "stream",
     "text": [
      "X_train= \n",
      " [[1.116116e+06 9.000000e+00 1.000000e+01 ... 3.000000e+00 3.000000e+00\n",
      "  1.000000e+00]\n",
      " [1.183516e+06 3.000000e+00 1.000000e+00 ... 1.000000e+00 1.000000e+00\n",
      "  1.000000e+00]\n",
      " [1.110524e+06 1.000000e+01 5.000000e+00 ... 7.000000e+00 1.000000e+00\n",
      "  1.000000e+00]\n",
      " ...\n",
      " [4.669060e+05 1.000000e+00 1.000000e+00 ... 1.000000e+00 1.000000e+00\n",
      "  1.000000e+00]\n",
      " [1.156017e+06 3.000000e+00 1.000000e+00 ... 2.000000e+00 1.000000e+00\n",
      "  1.000000e+00]\n",
      " [1.168359e+06 8.000000e+00 2.000000e+00 ... 7.000000e+00 1.000000e+00\n",
      "  1.000000e+00]]\n",
      "\n",
      "X_test= \n",
      " [[1.116192e+06 5.000000e+00 1.000000e+00 2.000000e+00 1.000000e+00\n",
      "  2.000000e+00 1.000000e+00 3.000000e+00 1.000000e+00 1.000000e+00]\n",
      " [1.160476e+06 2.000000e+00 1.000000e+00 1.000000e+00 1.000000e+00\n",
      "  2.000000e+00 1.000000e+00 3.000000e+00 1.000000e+00 1.000000e+00]\n",
      " [6.364370e+05 1.000000e+00 1.000000e+00 1.000000e+00 1.000000e+00\n",
      "  2.000000e+00 1.000000e+00 1.000000e+00 1.000000e+00 1.000000e+00]\n",
      " [7.040970e+05 1.000000e+00 1.000000e+00 1.000000e+00 1.000000e+00\n",
      "  1.000000e+00 1.000000e+00 2.000000e+00 1.000000e+00 1.000000e+00]\n",
      " [1.320141e+06 5.000000e+00 1.000000e+00 1.000000e+00 1.000000e+00\n",
      "  2.000000e+00 1.000000e+00 2.000000e+00 1.000000e+00 1.000000e+00]\n",
      " [1.202812e+06 5.000000e+00 3.000000e+00 3.000000e+00 3.000000e+00\n",
      "  6.000000e+00 1.000000e+01 3.000000e+00 1.000000e+00 1.000000e+00]\n",
      " [8.101040e+05 1.000000e+00 1.000000e+00 1.000000e+00 1.000000e+00\n",
      "  2.000000e+00 1.000000e+00 3.000000e+00 1.000000e+00 1.000000e+00]\n",
      " [1.105524e+06 1.000000e+00 1.000000e+00 1.000000e+00 1.000000e+00\n",
      "  2.000000e+00 1.000000e+00 2.000000e+00 1.000000e+00 1.000000e+00]\n",
      " [8.312680e+05 1.000000e+00 1.000000e+00 1.000000e+00 1.000000e+00\n",
      "  1.000000e+00 1.000000e+00 1.000000e+00 3.000000e+00 1.000000e+00]\n",
      " [1.036172e+06 2.000000e+00 1.000000e+00 1.000000e+00 1.000000e+00\n",
      "  2.000000e+00 1.000000e+00 2.000000e+00 1.000000e+00 1.000000e+00]\n",
      " [1.255384e+06 3.000000e+00 2.000000e+00 2.000000e+00 3.000000e+00\n",
      "  2.000000e+00 3.000000e+00 3.000000e+00 1.000000e+00 1.000000e+00]\n",
      " [1.448880e+05 8.000000e+00 1.000000e+01 1.000000e+01 8.000000e+00\n",
      "  5.000000e+00 1.000000e+01 7.000000e+00 8.000000e+00 1.000000e+00]\n",
      " [1.165297e+06 2.000000e+00 1.000000e+00 1.000000e+00 2.000000e+00\n",
      "  2.000000e+00 1.000000e+00 1.000000e+00 1.000000e+00 1.000000e+00]\n",
      " [1.297522e+06 2.000000e+00 1.000000e+00 1.000000e+00 1.000000e+00\n",
      "  2.000000e+00 1.000000e+00 1.000000e+00 1.000000e+00 1.000000e+00]\n",
      " [1.108449e+06 5.000000e+00 3.000000e+00 3.000000e+00 4.000000e+00\n",
      "  2.000000e+00 4.000000e+00 3.000000e+00 4.000000e+00 1.000000e+00]\n",
      " [1.196915e+06 1.000000e+01 7.000000e+00 7.000000e+00 4.000000e+00\n",
      "  5.000000e+00 1.000000e+01 5.000000e+00 7.000000e+00 2.000000e+00]\n",
      " [8.508310e+05 2.000000e+00 7.000000e+00 1.000000e+01 1.000000e+01\n",
      "  7.000000e+00 1.000000e+01 4.000000e+00 9.000000e+00 4.000000e+00]\n",
      " [1.268952e+06 1.000000e+01 1.000000e+01 7.000000e+00 8.000000e+00\n",
      "  7.000000e+00 1.000000e+00 1.000000e+01 1.000000e+01 3.000000e+00]\n",
      " [1.321942e+06 5.000000e+00 1.000000e+00 1.000000e+00 1.000000e+00\n",
      "  2.000000e+00 1.000000e+00 3.000000e+00 1.000000e+00 1.000000e+00]\n",
      " [1.114570e+06 5.000000e+00 3.000000e+00 3.000000e+00 2.000000e+00\n",
      "  3.000000e+00 1.000000e+00 3.000000e+00 1.000000e+00 1.000000e+00]\n",
      " [8.772910e+05 6.000000e+00 1.000000e+01 1.000000e+01 1.000000e+01\n",
      "  1.000000e+01 1.000000e+01 8.000000e+00 1.000000e+01 1.000000e+01]\n",
      " [1.183246e+06 1.000000e+00 1.000000e+00 1.000000e+00 1.000000e+00\n",
      "  1.000000e+00 3.000000e+00 2.000000e+00 1.000000e+00 1.000000e+00]\n",
      " [6.577530e+05 3.000000e+00 1.000000e+00 1.000000e+00 4.000000e+00\n",
      "  3.000000e+00 1.000000e+00 2.000000e+00 2.000000e+00 1.000000e+00]\n",
      " [1.084584e+06 5.000000e+00 4.000000e+00 4.000000e+00 9.000000e+00\n",
      "  2.000000e+00 1.000000e+01 5.000000e+00 6.000000e+00 1.000000e+00]\n",
      " [1.136142e+06 2.000000e+00 1.000000e+00 1.000000e+00 1.000000e+00\n",
      "  3.000000e+00 1.000000e+00 2.000000e+00 1.000000e+00 1.000000e+00]\n",
      " [1.031608e+06 2.000000e+00 1.000000e+00 1.000000e+00 1.000000e+00\n",
      "  1.000000e+00 1.000000e+00 2.000000e+00 1.000000e+00 1.000000e+00]\n",
      " [1.355260e+06 1.000000e+00 1.000000e+00 1.000000e+00 1.000000e+00\n",
      "  2.000000e+00 1.000000e+00 2.000000e+00 1.000000e+00 1.000000e+00]\n",
      " [1.211202e+06 7.000000e+00 5.000000e+00 1.000000e+01 1.000000e+01\n",
      "  1.000000e+01 1.000000e+01 4.000000e+00 1.000000e+01 3.000000e+00]\n",
      " [1.320077e+06 1.000000e+00 1.000000e+00 1.000000e+00 1.000000e+00\n",
      "  1.000000e+00 1.000000e+00 2.000000e+00 1.000000e+00 1.000000e+00]\n",
      " [1.142706e+06 5.000000e+00 1.000000e+01 1.000000e+01 1.000000e+01\n",
      "  6.000000e+00 1.000000e+01 6.000000e+00 5.000000e+00 2.000000e+00]\n",
      " [1.168278e+06 3.000000e+00 1.000000e+00 1.000000e+00 1.000000e+00\n",
      "  2.000000e+00 1.000000e+00 2.000000e+00 1.000000e+00 1.000000e+00]\n",
      " [1.182404e+06 4.000000e+00 1.000000e+00 1.000000e+00 1.000000e+00\n",
      "  2.000000e+00 1.000000e+00 2.000000e+00 1.000000e+00 1.000000e+00]\n",
      " [1.258556e+06 5.000000e+00 3.000000e+00 6.000000e+00 1.000000e+00\n",
      "  2.000000e+00 1.000000e+00 1.000000e+00 1.000000e+00 1.000000e+00]\n",
      " [1.241679e+06 9.000000e+00 8.000000e+00 8.000000e+00 5.000000e+00\n",
      "  6.000000e+00 2.000000e+00 4.000000e+00 1.000000e+01 4.000000e+00]\n",
      " [1.230994e+06 4.000000e+00 5.000000e+00 5.000000e+00 8.000000e+00\n",
      "  6.000000e+00 1.000000e+01 1.000000e+01 7.000000e+00 1.000000e+00]\n",
      " [1.345452e+06 1.000000e+00 1.000000e+00 3.000000e+00 1.000000e+00\n",
      "  2.000000e+00 1.000000e+00 2.000000e+00 1.000000e+00 1.000000e+00]\n",
      " [8.325670e+05 4.000000e+00 2.000000e+00 3.000000e+00 5.000000e+00\n",
      "  3.000000e+00 8.000000e+00 7.000000e+00 6.000000e+00 1.000000e+00]\n",
      " [1.238021e+06 1.000000e+00 1.000000e+00 1.000000e+00 1.000000e+00\n",
      "  2.000000e+00 1.000000e+00 2.000000e+00 1.000000e+00 1.000000e+00]\n",
      " [1.223543e+06 1.000000e+00 2.000000e+00 1.000000e+00 3.000000e+00\n",
      "  2.000000e+00 1.000000e+00 1.000000e+00 2.000000e+00 1.000000e+00]\n",
      " [1.175937e+06 5.000000e+00 4.000000e+00 6.000000e+00 7.000000e+00\n",
      "  9.000000e+00 7.000000e+00 8.000000e+00 1.000000e+01 1.000000e+00]\n",
      " [7.496530e+05 3.000000e+00 1.000000e+00 1.000000e+00 1.000000e+00\n",
      "  2.000000e+00 1.000000e+00 2.000000e+00 1.000000e+00 1.000000e+00]\n",
      " [1.246562e+06 1.000000e+01 2.000000e+00 2.000000e+00 1.000000e+00\n",
      "  2.000000e+00 6.000000e+00 1.000000e+00 1.000000e+00 2.000000e+00]\n",
      " [1.321348e+06 2.000000e+00 1.000000e+00 1.000000e+00 1.000000e+00\n",
      "  2.000000e+00 1.000000e+00 2.000000e+00 1.000000e+00 1.000000e+00]\n",
      " [6.596420e+05 1.000000e+01 8.000000e+00 4.000000e+00 4.000000e+00\n",
      "  4.000000e+00 1.000000e+01 3.000000e+00 1.000000e+01 4.000000e+00]\n",
      " [8.577740e+05 4.000000e+00 1.000000e+00 1.000000e+00 1.000000e+00\n",
      "  3.000000e+00 1.000000e+00 2.000000e+00 2.000000e+00 1.000000e+00]\n",
      " [1.173235e+06 3.000000e+00 3.000000e+00 2.000000e+00 1.000000e+00\n",
      "  2.000000e+00 3.000000e+00 3.000000e+00 1.000000e+00 1.000000e+00]\n",
      " [1.181685e+06 1.000000e+00 1.000000e+00 2.000000e+00 1.000000e+00\n",
      "  2.000000e+00 1.000000e+00 2.000000e+00 1.000000e+00 1.000000e+00]\n",
      " [1.043999e+06 1.000000e+00 1.000000e+00 1.000000e+00 1.000000e+00\n",
      "  2.000000e+00 3.000000e+00 3.000000e+00 1.000000e+00 1.000000e+00]\n",
      " [1.116998e+06 1.000000e+01 4.000000e+00 2.000000e+00 1.000000e+00\n",
      "  3.000000e+00 2.000000e+00 4.000000e+00 3.000000e+00 1.000000e+01]\n",
      " [1.186936e+06 2.000000e+00 1.000000e+00 3.000000e+00 2.000000e+00\n",
      "  2.000000e+00 1.000000e+00 2.000000e+00 1.000000e+00 1.000000e+00]\n",
      " [1.217051e+06 5.000000e+00 1.000000e+00 1.000000e+00 1.000000e+00\n",
      "  2.000000e+00 1.000000e+00 3.000000e+00 1.000000e+00 1.000000e+00]\n",
      " [1.018561e+06 2.000000e+00 1.000000e+00 2.000000e+00 1.000000e+00\n",
      "  2.000000e+00 1.000000e+00 3.000000e+00 1.000000e+00 1.000000e+00]\n",
      " [1.839130e+05 1.000000e+00 2.000000e+00 2.000000e+00 1.000000e+00\n",
      "  2.000000e+00 1.000000e+00 1.000000e+00 1.000000e+00 1.000000e+00]\n",
      " [5.353310e+05 3.000000e+00 1.000000e+00 1.000000e+00 1.000000e+00\n",
      "  3.000000e+00 1.000000e+00 2.000000e+00 1.000000e+00 1.000000e+00]\n",
      " [1.214556e+06 3.000000e+00 1.000000e+00 1.000000e+00 1.000000e+00\n",
      "  2.000000e+00 1.000000e+00 2.000000e+00 1.000000e+00 1.000000e+00]\n",
      " [1.015425e+06 3.000000e+00 1.000000e+00 1.000000e+00 1.000000e+00\n",
      "  2.000000e+00 2.000000e+00 3.000000e+00 1.000000e+00 1.000000e+00]\n",
      " [1.313658e+06 3.000000e+00 1.000000e+00 1.000000e+00 1.000000e+00\n",
      "  2.000000e+00 1.000000e+00 1.000000e+00 1.000000e+00 1.000000e+00]\n",
      " [1.208301e+06 1.000000e+00 2.000000e+00 3.000000e+00 1.000000e+00\n",
      "  2.000000e+00 1.000000e+00 3.000000e+00 1.000000e+00 1.000000e+00]\n",
      " [1.067444e+06 2.000000e+00 1.000000e+00 1.000000e+00 1.000000e+00\n",
      "  2.000000e+00 1.000000e+00 2.000000e+00 1.000000e+00 1.000000e+00]\n",
      " [1.018099e+06 1.000000e+00 1.000000e+00 1.000000e+00 1.000000e+00\n",
      "  2.000000e+00 1.000000e+01 3.000000e+00 1.000000e+00 1.000000e+00]\n",
      " [6.537770e+05 8.000000e+00 3.000000e+00 4.000000e+00 9.000000e+00\n",
      "  3.000000e+00 1.000000e+01 3.000000e+00 3.000000e+00 1.000000e+00]\n",
      " [1.318169e+06 9.000000e+00 1.000000e+01 1.000000e+01 1.000000e+01\n",
      "  1.000000e+01 5.000000e+00 1.000000e+01 1.000000e+01 1.000000e+01]\n",
      " [1.108370e+06 9.000000e+00 5.000000e+00 8.000000e+00 1.000000e+00\n",
      "  2.000000e+00 3.000000e+00 2.000000e+00 1.000000e+00 5.000000e+00]\n",
      " [1.232225e+06 1.000000e+01 4.000000e+00 5.000000e+00 5.000000e+00\n",
      "  5.000000e+00 1.000000e+01 4.000000e+00 1.000000e+00 1.000000e+00]\n",
      " [1.297327e+06 5.000000e+00 1.000000e+00 1.000000e+00 1.000000e+00\n",
      "  2.000000e+00 1.000000e+00 1.000000e+00 1.000000e+00 1.000000e+00]\n",
      " [1.075123e+06 3.000000e+00 1.000000e+00 2.000000e+00 1.000000e+00\n",
      "  2.000000e+00 1.000000e+00 2.000000e+00 1.000000e+00 1.000000e+00]\n",
      " [1.328331e+06 1.000000e+00 1.000000e+00 1.000000e+00 1.000000e+00\n",
      "  2.000000e+00 1.000000e+00 3.000000e+00 1.000000e+00 1.000000e+00]\n",
      " [1.454470e+05 8.000000e+00 4.000000e+00 4.000000e+00 1.000000e+00\n",
      "  2.000000e+00 9.000000e+00 3.000000e+00 3.000000e+00 1.000000e+00]\n",
      " [1.296263e+06 4.000000e+00 1.000000e+00 1.000000e+00 1.000000e+00\n",
      "  2.000000e+00 1.000000e+00 1.000000e+00 1.000000e+00 1.000000e+00]\n",
      " [1.202253e+06 5.000000e+00 1.000000e+00 1.000000e+00 1.000000e+00\n",
      "  2.000000e+00 1.000000e+00 1.000000e+00 1.000000e+00 1.000000e+00]]\n",
      "\n",
      "y_train= \n",
      " [1. 0. 0. 0. 0. 0. 1. 0. 0. 0. 0. 1. 0. 1. 0. 1. 0. 0. 1. 1. 1. 0. 0. 0.\n",
      " 1. 0. 1. 1. 1. 1. 0. 1. 0. 0. 0. 1. 0. 1. 1. 0. 0. 0. 0. 1. 0. 1. 0. 0.\n",
      " 1. 0. 0. 1. 1. 1. 0. 0. 1. 1. 0. 0. 1. 0. 0. 0. 0. 0. 0. 1. 0. 0. 0. 1.\n",
      " 0. 0. 1. 0. 1. 0. 0. 1. 0. 1. 0. 0. 0. 0. 1. 0. 0. 0. 0. 1. 0. 1. 0. 0.\n",
      " 1. 1. 0. 0. 0. 0. 0. 1. 1. 0. 1. 0. 0. 0. 1. 0. 0. 1. 0. 0. 1. 0. 0. 0.\n",
      " 1. 0. 0. 1. 1. 0. 1. 1. 1. 1. 1. 0. 0. 1. 0. 0. 0. 1. 0. 1. 0. 1. 0. 1.\n",
      " 0. 0. 0. 1. 1. 0. 0. 0. 1. 0. 1. 0. 0. 1. 0. 1. 0. 1. 0. 1. 1. 0. 1. 0.\n",
      " 0. 0. 0. 0. 0. 1. 0. 0. 1. 0. 1. 0. 0. 0. 1. 0. 1. 0. 0. 0. 0. 1. 0. 1.\n",
      " 1. 0. 1. 1. 0. 0. 0. 0. 0. 0. 0. 1. 0. 0. 1. 0. 0. 0. 0. 0. 0. 1. 0. 0.\n",
      " 0. 1. 1. 0. 0. 0. 0. 0. 0. 1. 1. 0. 0. 0. 1. 0. 0. 0. 0. 0. 0. 1. 0. 0.\n",
      " 0. 0. 0. 0. 1. 0. 0. 1. 0. 1. 0. 0. 1. 0. 0. 0. 0. 1. 0. 0. 0. 0. 0. 0.\n",
      " 1. 0. 1. 0. 1. 1. 0. 0. 1. 0. 0. 0. 1. 0. 1. 0. 0. 0. 0. 1. 0. 0. 0. 1.\n",
      " 1. 0. 1. 0. 1. 1. 0. 0. 0. 0. 1. 1. 0. 0. 0. 1. 1. 1. 0. 0. 1. 0. 0. 0.\n",
      " 0. 1. 0. 0. 0. 0. 0. 0. 1. 0. 0. 0. 0. 1. 1. 0. 0. 0. 0. 1. 0. 0. 0. 0.\n",
      " 1. 0. 0. 0. 0. 0. 0. 1. 1. 0. 0. 0. 0. 0. 0. 1. 0. 1. 1. 0. 1. 0. 0. 1.\n",
      " 0. 0. 0. 0. 0. 0. 0. 1. 0. 1. 1. 1. 1. 1. 1. 0. 0. 0. 0. 0. 0. 0. 0. 1.\n",
      " 0. 0. 0. 0. 0. 0. 1. 0. 0. 0. 1. 0. 0. 0. 0. 0. 0. 1. 0. 0. 1. 0. 0. 1.\n",
      " 1. 0. 1. 0. 0. 1. 1. 0. 0. 1. 1. 0. 0. 0. 1. 0. 0. 0. 0. 0. 0. 0. 0. 1.\n",
      " 0. 0. 0. 1. 0. 1. 1. 1. 1. 1. 0. 0. 0. 1. 0. 0. 1. 0. 0. 0. 0. 1. 0. 1.\n",
      " 1. 0. 0. 1. 1. 1. 1. 0. 1. 0. 0. 0. 0. 1. 0. 1. 0. 0. 0. 0. 0. 0. 0. 1.\n",
      " 0. 0. 1. 0. 0. 0. 1. 1. 0. 1. 0. 0. 0. 1. 1. 0. 0. 1. 0. 1. 0. 0. 0. 1.\n",
      " 1. 0. 0. 0. 1. 1. 0. 0. 0. 0. 1. 1. 0. 0. 0. 1. 0. 1. 1. 0. 1. 1. 0. 0.\n",
      " 1. 0. 0. 0. 0. 1. 1. 0. 1. 1. 1. 1. 0. 0. 1. 1. 0. 1. 1. 1. 0. 0. 1. 0.\n",
      " 1. 1. 0. 0. 0. 0. 0. 0. 0. 1. 1. 0. 1. 0. 0. 1. 0. 0. 0. 0. 1. 0. 0. 0.\n",
      " 1. 1. 0. 0. 1. 0. 0. 0. 0. 1. 0. 1. 0. 0. 0. 0. 0. 0. 1. 0. 0. 0. 0. 0.\n",
      " 1. 0. 1. 0. 0. 0. 0. 0. 0. 1. 1. 0. 0. 1. 0. 0. 1. 1. 1. 0. 1. 0. 0. 0.\n",
      " 0. 1. 0. 0. 0.]\n",
      "\n",
      "y_test= \n",
      " [0. 0. 0. 0. 1. 0. 0. 0. 0. 1. 0. 0. 1. 0. 0. 1. 0. 1. 1. 1. 0. 0. 1. 1.\n",
      " 0. 0. 1. 1. 1. 0. 0. 0. 1. 0. 0. 0. 0. 0. 0. 0. 0. 0. 0. 1. 0. 0. 1. 0.\n",
      " 1. 1. 1. 1. 1. 1. 0. 0. 0. 0. 0. 0. 0. 0. 1. 0. 0. 0. 1. 0. 0. 1.]\n"
     ]
    }
   ],
   "source": [
    "# Splitting into different percentage of test sizes - 90%/10%\n",
    "from sklearn.model_selection import train_test_split \n",
    "X_train, X_test, y_train, y_test = train_test_split(X, y, test_size=0.1, random_state=47, stratify = y)\n",
    "\n",
    "print(\"X_train= \\n\", X_train)\n",
    "print(\"\\nX_test= \\n\", X_test)\n",
    "print(\"\\ny_train= \\n\", y_train)\n",
    "print(\"\\ny_test= \\n\", y_test)"
   ]
  },
  {
   "cell_type": "code",
   "execution_count": 20,
   "metadata": {},
   "outputs": [
    {
     "name": "stdout",
     "output_type": "stream",
     "text": [
      "Accuracy: 0.6571428571428571\n",
      "Confusion matrix:\n",
      " [[46  0]\n",
      " [24  0]]\n"
     ]
    }
   ],
   "source": [
    "from sklearn.neural_network import MLPClassifier\n",
    "from sklearn.metrics import confusion_matrix, classification_report\n",
    "from sklearn.metrics import accuracy_score\n",
    "\n",
    "mlp = MLPClassifier(hidden_layer_sizes=(8,), max_iter=12, random_state=42)\n",
    "mlp.fit(X_train, y_train)\n",
    "\n",
    "y_pred = mlp.predict(X_test)\n",
    "\n",
    "print('Accuracy:', accuracy_score(y_test, y_pred))\n",
    "\n",
    "print(\"Confusion matrix:\\n\", confusion_matrix(y_test, y_pred))"
   ]
  },
  {
   "cell_type": "code",
   "execution_count": 21,
   "metadata": {},
   "outputs": [
    {
     "name": "stdout",
     "output_type": "stream",
     "text": [
      "Accuracy: 0.6571428571428571\n",
      "Confusion matrix:\n",
      " [[46  0]\n",
      " [24  0]]\n"
     ]
    }
   ],
   "source": [
    "mlp = MLPClassifier(hidden_layer_sizes=(5,), max_iter=12, random_state=42)\n",
    "mlp.fit(X_train, y_train)\n",
    "\n",
    "y_pred = mlp.predict(X_test)\n",
    "\n",
    "print('Accuracy:', accuracy_score(y_test, y_pred))\n",
    "\n",
    "print(\"Confusion matrix:\\n\", confusion_matrix(y_test, y_pred))"
   ]
  },
  {
   "cell_type": "code",
   "execution_count": 22,
   "metadata": {},
   "outputs": [
    {
     "name": "stdout",
     "output_type": "stream",
     "text": [
      "Accuracy: 0.6571428571428571\n",
      "Confusion matrix:\n",
      " [[46  0]\n",
      " [24  0]]\n"
     ]
    }
   ],
   "source": [
    "mlp = MLPClassifier(hidden_layer_sizes=(10,), max_iter=12, random_state=42)\n",
    "mlp.fit(X_train, y_train)\n",
    "\n",
    "y_pred = mlp.predict(X_test)\n",
    "\n",
    "print('Accuracy:', accuracy_score(y_test, y_pred))\n",
    "\n",
    "print(\"Confusion matrix:\\n\", confusion_matrix(y_test, y_pred))"
   ]
  },
  {
   "cell_type": "code",
   "execution_count": 23,
   "metadata": {},
   "outputs": [
    {
     "name": "stdout",
     "output_type": "stream",
     "text": [
      "Root Mean Squared Error is:  0.5855400437691199\n"
     ]
    },
    {
     "data": {
      "image/png": "[encoded data removed]",
      "text/plain": [
       "<Figure size 640x480 with 1 Axes>"
      ]
     },
     "metadata": {},
     "output_type": "display_data"
    }
   ],
   "source": [
    "# Doing the different cost function with the 0.2 test size \n",
    "from sklearn.model_selection import train_test_split\n",
    "from sklearn.metrics import mean_squared_error, mean_absolute_error\n",
    "X_train, X_test, y_train, y_test = train_test_split(X, y, test_size=0.2, random_state=47, stratify = y)\n",
    "\n",
    "predictions = mlp.predict(X_test)\n",
    "\n",
    "RMSE = np.sqrt(mean_squared_error(y_test, predictions))\n",
    "print('Root Mean Squared Error is: ',RMSE)\n",
    "\n",
    "# Shows the loss plot as the function of the number of iterations with the 20% test data size \n",
    "# and the use of the RMSE to evaluate the loss\n",
    "plt.scatter(y_test,predictions)\n",
    "plt.xlabel('real test values')\n",
    "plt.ylabel('predicted values')\n",
    "plt.show()"
   ]
  },
  {
   "cell_type": "code",
   "execution_count": 24,
   "metadata": {},
   "outputs": [
    {
     "name": "stdout",
     "output_type": "stream",
     "text": [
      "Accuracy: 0.6571428571428571\n",
      "Confusion matrix:\n",
      " [[92  0]\n",
      " [48  0]]\n"
     ]
    }
   ],
   "source": [
    "# The use of the batch size of 32 is with the 20% test size of the data. Will also show the accuracy and 8\n",
    "# neurons in the one hidden layer\n",
    "from sklearn.model_selection import train_test_split\n",
    "\n",
    "X_train, X_test, y_train, y_test = train_test_split(X, y, test_size=0.2, random_state=47, stratify = y)\n",
    "\n",
    "mlp = MLPClassifier(hidden_layer_sizes=(8,), max_iter=12, random_state=42,batch_size = 32)\n",
    "mlp.fit(X_train, y_train)\n",
    "\n",
    "y_pred = mlp.predict(X_test)\n",
    "\n",
    "print('Accuracy:', accuracy_score(y_test, y_pred))\n",
    "\n",
    "print(\"Confusion matrix:\\n\", confusion_matrix(y_test, y_pred))"
   ]
  },
  {
   "cell_type": "code",
   "execution_count": 25,
   "metadata": {},
   "outputs": [
    {
     "name": "stdout",
     "output_type": "stream",
     "text": [
      "Accuracy: 0.6571428571428571\n",
      "Confusion matrix:\n",
      " [[92  0]\n",
      " [48  0]]\n"
     ]
    }
   ],
   "source": [
    "# The same as above but for a batch size of 64\n",
    "mlp = MLPClassifier(hidden_layer_sizes=(8,), max_iter=12, random_state=42,batch_size = 64)\n",
    "mlp.fit(X_train, y_train)\n",
    "\n",
    "y_pred = mlp.predict(X_test)\n",
    "\n",
    "print('Accuracy:', accuracy_score(y_test, y_pred))\n",
    "\n",
    "print(\"Confusion matrix:\\n\", confusion_matrix(y_test, y_pred))"
   ]
  },
  {
   "cell_type": "markdown",
   "metadata": {},
   "source": [
    "## DUE DATE: Wednesday, September 13, 2023"
   ]
  }
 ],
 "metadata": {
  "kernelspec": {
   "display_name": "Python 3 (ipykernel)",
   "language": "python",
   "name": "python3"
  },
  "language_info": {
   "codemirror_mode": {
    "name": "ipython",
    "version": 3
   },
   "file_extension": ".py",
   "mimetype": "text/x-python",
   "name": "python",
   "nbconvert_exporter": "python",
   "pygments_lexer": "ipython3",
   "version": "3.10.9"
  }
 },
 "nbformat": 4,
 "nbformat_minor": 2
}
